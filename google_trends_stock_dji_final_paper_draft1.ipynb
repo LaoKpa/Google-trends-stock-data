{
 "cells": [
  {
   "cell_type": "code",
   "execution_count": 1,
   "metadata": {},
   "outputs": [],
   "source": [
    "import pandas as pd\n",
    "import numpy as np\n",
    "\n",
    "df = pd.read_excel('/Users/jugalmarfatia/Documents/fall 2018/google_trends_stocks/Google-trends-stock-data/data/dow-jones-industrial-average-components.xls', header=2)"
   ]
  },
  {
   "cell_type": "code",
   "execution_count": 2,
   "metadata": {},
   "outputs": [],
   "source": [
    "dji_list = df['Ticker Symbol'].dropna().unique()"
   ]
  },
  {
   "cell_type": "code",
   "execution_count": 3,
   "metadata": {},
   "outputs": [
    {
     "data": {
      "text/plain": [
       "array(['MMM', 'AXP', 'AAPL', 'CAT', 'CVX', 'CSCO', 'DWDP', 'XOM', 'INTC',\n",
       "       'IBM', 'JNJ', 'JPM', 'MCD', 'MRK', 'MSFT', 'NKE', 'PFE', 'BA',\n",
       "       'KO', 'GS', 'HD', 'PG', 'TRV', 'DIS', 'UTX', 'UNH', 'VZ', 'V',\n",
       "       'WBA', 'WMT'], dtype=object)"
      ]
     },
     "execution_count": 3,
     "metadata": {},
     "output_type": "execute_result"
    }
   ],
   "source": [
    "dji_list"
   ]
  },
  {
   "cell_type": "code",
   "execution_count": 4,
   "metadata": {},
   "outputs": [
    {
     "data": {
      "text/html": [
       "<div>\n",
       "<style scoped>\n",
       "    .dataframe tbody tr th:only-of-type {\n",
       "        vertical-align: middle;\n",
       "    }\n",
       "\n",
       "    .dataframe tbody tr th {\n",
       "        vertical-align: top;\n",
       "    }\n",
       "\n",
       "    .dataframe thead th {\n",
       "        text-align: right;\n",
       "    }\n",
       "</style>\n",
       "<table border=\"1\" class=\"dataframe\">\n",
       "  <thead>\n",
       "    <tr style=\"text-align: right;\">\n",
       "      <th></th>\n",
       "      <th>Unnamed: 0</th>\n",
       "      <th>date</th>\n",
       "      <th>gt_index</th>\n",
       "      <th>isPartial</th>\n",
       "      <th>stock_symbol</th>\n",
       "    </tr>\n",
       "  </thead>\n",
       "  <tbody>\n",
       "    <tr>\n",
       "      <th>0</th>\n",
       "      <td>0</td>\n",
       "      <td>2013-09-29 00:00:00</td>\n",
       "      <td>8</td>\n",
       "      <td>False</td>\n",
       "      <td>MMM</td>\n",
       "    </tr>\n",
       "    <tr>\n",
       "      <th>1</th>\n",
       "      <td>1</td>\n",
       "      <td>2013-10-06 00:00:00</td>\n",
       "      <td>9</td>\n",
       "      <td>False</td>\n",
       "      <td>MMM</td>\n",
       "    </tr>\n",
       "    <tr>\n",
       "      <th>2</th>\n",
       "      <td>2</td>\n",
       "      <td>2013-10-13 00:00:00</td>\n",
       "      <td>13</td>\n",
       "      <td>False</td>\n",
       "      <td>MMM</td>\n",
       "    </tr>\n",
       "    <tr>\n",
       "      <th>3</th>\n",
       "      <td>3</td>\n",
       "      <td>2013-10-20 00:00:00</td>\n",
       "      <td>19</td>\n",
       "      <td>False</td>\n",
       "      <td>MMM</td>\n",
       "    </tr>\n",
       "    <tr>\n",
       "      <th>4</th>\n",
       "      <td>4</td>\n",
       "      <td>2013-10-27 00:00:00</td>\n",
       "      <td>16</td>\n",
       "      <td>False</td>\n",
       "      <td>MMM</td>\n",
       "    </tr>\n",
       "  </tbody>\n",
       "</table>\n",
       "</div>"
      ],
      "text/plain": [
       "   Unnamed: 0                 date  gt_index  isPartial stock_symbol\n",
       "0           0  2013-09-29 00:00:00         8      False          MMM\n",
       "1           1  2013-10-06 00:00:00         9      False          MMM\n",
       "2           2  2013-10-13 00:00:00        13      False          MMM\n",
       "3           3  2013-10-20 00:00:00        19      False          MMM\n",
       "4           4  2013-10-27 00:00:00        16      False          MMM"
      ]
     },
     "execution_count": 4,
     "metadata": {},
     "output_type": "execute_result"
    }
   ],
   "source": [
    "dji_gt_data = pd.DataFrame()\n",
    "\n",
    "for i in dji_list:\n",
    "    df1 = pd.read_csv('/Users/jugalmarfatia/Documents/fall 2018/google_trends_stocks/Google-trends-stock-data/data/google_trends/weekly/' + str(i) + '_gt.csv')\n",
    "    dji_gt_data = dji_gt_data.append(df1)\n",
    "\n",
    "dji_gt_data.head()"
   ]
  },
  {
   "cell_type": "code",
   "execution_count": 5,
   "metadata": {},
   "outputs": [],
   "source": [
    "dji_gt_data = dji_gt_data.set_index(['stock_symbol'])\n",
    "df_temp = dji_gt_data.groupby(['stock_symbol']).mean()\n",
    "df_temp.rename(index=str, columns={\"gt_index\": \"gt_index_sum\"}, inplace = True)"
   ]
  },
  {
   "cell_type": "code",
   "execution_count": 6,
   "metadata": {},
   "outputs": [],
   "source": [
    "dji_gt_data = dji_gt_data.join(df_temp['gt_index_sum']).reset_index()"
   ]
  },
  {
   "cell_type": "code",
   "execution_count": 7,
   "metadata": {},
   "outputs": [],
   "source": [
    "dji_gt_data['adjusted_gt_index'] = (dji_gt_data['gt_index'] - dji_gt_data['gt_index_sum']) / dji_gt_data['gt_index'].std()"
   ]
  },
  {
   "cell_type": "code",
   "execution_count": 8,
   "metadata": {},
   "outputs": [],
   "source": [
    "dji_gt_data['date'] = pd.to_datetime(dji_gt_data['date'])\n",
    "dji_gt_data['day_of_week'] = dji_gt_data['date'].dt.weekday_name"
   ]
  },
  {
   "cell_type": "code",
   "execution_count": 9,
   "metadata": {},
   "outputs": [],
   "source": [
    "dji_gt_data['m_date'] = pd.to_datetime(dji_gt_data['date']).apply(pd.DateOffset(1))"
   ]
  },
  {
   "cell_type": "code",
   "execution_count": 10,
   "metadata": {},
   "outputs": [],
   "source": [
    "dji_gt_data = dji_gt_data[['gt_index', 'adjusted_gt_index', 'stock_symbol', 'date', 'm_date']]"
   ]
  },
  {
   "cell_type": "code",
   "execution_count": 11,
   "metadata": {},
   "outputs": [],
   "source": [
    "dji_gt_data = dji_gt_data.set_index(['stock_symbol', 'm_date'])"
   ]
  },
  {
   "cell_type": "code",
   "execution_count": 12,
   "metadata": {},
   "outputs": [],
   "source": [
    "dji_list = np.append(dji_list, ['^DJI'])"
   ]
  },
  {
   "cell_type": "code",
   "execution_count": 13,
   "metadata": {},
   "outputs": [
    {
     "data": {
      "text/html": [
       "<div>\n",
       "<style scoped>\n",
       "    .dataframe tbody tr th:only-of-type {\n",
       "        vertical-align: middle;\n",
       "    }\n",
       "\n",
       "    .dataframe tbody tr th {\n",
       "        vertical-align: top;\n",
       "    }\n",
       "\n",
       "    .dataframe thead th {\n",
       "        text-align: right;\n",
       "    }\n",
       "</style>\n",
       "<table border=\"1\" class=\"dataframe\">\n",
       "  <thead>\n",
       "    <tr style=\"text-align: right;\">\n",
       "      <th></th>\n",
       "      <th>Date</th>\n",
       "      <th>Open</th>\n",
       "      <th>High</th>\n",
       "      <th>Low</th>\n",
       "      <th>Close</th>\n",
       "      <th>Adj Close</th>\n",
       "      <th>Volume</th>\n",
       "      <th>stock</th>\n",
       "    </tr>\n",
       "  </thead>\n",
       "  <tbody>\n",
       "    <tr>\n",
       "      <th>0</th>\n",
       "      <td>2013-01-02</td>\n",
       "      <td>94.190002</td>\n",
       "      <td>94.790001</td>\n",
       "      <td>93.959999</td>\n",
       "      <td>94.779999</td>\n",
       "      <td>82.296341</td>\n",
       "      <td>3206700</td>\n",
       "      <td>MMM</td>\n",
       "    </tr>\n",
       "    <tr>\n",
       "      <th>1</th>\n",
       "      <td>2013-01-03</td>\n",
       "      <td>94.339996</td>\n",
       "      <td>94.930000</td>\n",
       "      <td>94.129997</td>\n",
       "      <td>94.669998</td>\n",
       "      <td>82.200836</td>\n",
       "      <td>2704600</td>\n",
       "      <td>MMM</td>\n",
       "    </tr>\n",
       "    <tr>\n",
       "      <th>2</th>\n",
       "      <td>2013-01-04</td>\n",
       "      <td>94.790001</td>\n",
       "      <td>95.480003</td>\n",
       "      <td>94.540001</td>\n",
       "      <td>95.370003</td>\n",
       "      <td>82.808632</td>\n",
       "      <td>2704900</td>\n",
       "      <td>MMM</td>\n",
       "    </tr>\n",
       "    <tr>\n",
       "      <th>3</th>\n",
       "      <td>2013-01-07</td>\n",
       "      <td>95.019997</td>\n",
       "      <td>95.730003</td>\n",
       "      <td>94.760002</td>\n",
       "      <td>95.489998</td>\n",
       "      <td>82.912849</td>\n",
       "      <td>2745800</td>\n",
       "      <td>MMM</td>\n",
       "    </tr>\n",
       "    <tr>\n",
       "      <th>4</th>\n",
       "      <td>2013-01-08</td>\n",
       "      <td>95.169998</td>\n",
       "      <td>95.750000</td>\n",
       "      <td>95.099998</td>\n",
       "      <td>95.500000</td>\n",
       "      <td>82.921501</td>\n",
       "      <td>2655500</td>\n",
       "      <td>MMM</td>\n",
       "    </tr>\n",
       "  </tbody>\n",
       "</table>\n",
       "</div>"
      ],
      "text/plain": [
       "         Date       Open       High        Low      Close  Adj Close   Volume  \\\n",
       "0  2013-01-02  94.190002  94.790001  93.959999  94.779999  82.296341  3206700   \n",
       "1  2013-01-03  94.339996  94.930000  94.129997  94.669998  82.200836  2704600   \n",
       "2  2013-01-04  94.790001  95.480003  94.540001  95.370003  82.808632  2704900   \n",
       "3  2013-01-07  95.019997  95.730003  94.760002  95.489998  82.912849  2745800   \n",
       "4  2013-01-08  95.169998  95.750000  95.099998  95.500000  82.921501  2655500   \n",
       "\n",
       "  stock  \n",
       "0   MMM  \n",
       "1   MMM  \n",
       "2   MMM  \n",
       "3   MMM  \n",
       "4   MMM  "
      ]
     },
     "execution_count": 13,
     "metadata": {},
     "output_type": "execute_result"
    }
   ],
   "source": [
    "dji_stock_data = pd.DataFrame()\n",
    "\n",
    "for i in dji_list:\n",
    "    df1 = pd.read_csv('/Users/jugalmarfatia/Documents/fall 2018/google_trends_stocks/Google-trends-stock-data/data/stock_prices/' + str(i) + '_price.csv')\n",
    "    dji_stock_data = dji_stock_data.append(df1)\n",
    "\n",
    "dji_stock_data.head()"
   ]
  },
  {
   "cell_type": "code",
   "execution_count": 14,
   "metadata": {},
   "outputs": [],
   "source": [
    "dji_stock_data['date'] = pd.to_datetime(dji_stock_data['Date'])\n",
    "dji_stock_data['day_of_week'] = dji_stock_data['date'].dt.weekday_name\n",
    "dji_stock_data_monday = dji_stock_data[dji_stock_data['day_of_week'] == 'Monday']\n",
    "dji_stock_data_friday = dji_stock_data[dji_stock_data['day_of_week'] == 'Friday']"
   ]
  },
  {
   "cell_type": "code",
   "execution_count": 15,
   "metadata": {},
   "outputs": [
    {
     "name": "stderr",
     "output_type": "stream",
     "text": [
      "/anaconda3/lib/python3.6/site-packages/ipykernel_launcher.py:1: SettingWithCopyWarning: \n",
      "A value is trying to be set on a copy of a slice from a DataFrame.\n",
      "Try using .loc[row_indexer,col_indexer] = value instead\n",
      "\n",
      "See the caveats in the documentation: http://pandas.pydata.org/pandas-docs/stable/indexing.html#indexing-view-versus-copy\n",
      "  \"\"\"Entry point for launching an IPython kernel.\n",
      "/anaconda3/lib/python3.6/site-packages/ipykernel_launcher.py:2: SettingWithCopyWarning: \n",
      "A value is trying to be set on a copy of a slice from a DataFrame.\n",
      "Try using .loc[row_indexer,col_indexer] = value instead\n",
      "\n",
      "See the caveats in the documentation: http://pandas.pydata.org/pandas-docs/stable/indexing.html#indexing-view-versus-copy\n",
      "  \n"
     ]
    }
   ],
   "source": [
    "dji_stock_data_friday['m_date'] = pd.to_datetime(dji_stock_data_friday['date']).apply(pd.DateOffset(-4))\n",
    "dji_stock_data_monday['m_date'] = dji_stock_data_monday['date']"
   ]
  },
  {
   "cell_type": "code",
   "execution_count": 16,
   "metadata": {},
   "outputs": [],
   "source": [
    "dji_stock_data_monday = dji_stock_data_monday[['Open', 'stock', 'm_date']]"
   ]
  },
  {
   "cell_type": "code",
   "execution_count": 17,
   "metadata": {},
   "outputs": [
    {
     "name": "stderr",
     "output_type": "stream",
     "text": [
      "/anaconda3/lib/python3.6/site-packages/ipykernel_launcher.py:1: SettingWithCopyWarning: \n",
      "A value is trying to be set on a copy of a slice from a DataFrame.\n",
      "Try using .loc[row_indexer,col_indexer] = value instead\n",
      "\n",
      "See the caveats in the documentation: http://pandas.pydata.org/pandas-docs/stable/indexing.html#indexing-view-versus-copy\n",
      "  \"\"\"Entry point for launching an IPython kernel.\n"
     ]
    }
   ],
   "source": [
    "dji_stock_data_friday['day_of_week_m'] = dji_stock_data_friday['m_date'].dt.weekday_name"
   ]
  },
  {
   "cell_type": "code",
   "execution_count": 18,
   "metadata": {},
   "outputs": [],
   "source": [
    "dji_stock_data_friday = dji_stock_data_friday[['Close', 'stock', 'm_date']]"
   ]
  },
  {
   "cell_type": "code",
   "execution_count": 19,
   "metadata": {},
   "outputs": [],
   "source": [
    "dji_stock_data_monday.rename(index=str, columns={\"Open\": \"open_monday\", \"stock\": \"stock_symbol\"}, inplace = True)\n",
    "dji_stock_data_friday.rename(index=str, columns={\"Close\": \"close_friday\", \"stock\": \"stock_symbol\"}, inplace = True)\n",
    "\n",
    "dji_index_monday = dji_stock_data_monday[dji_stock_data_monday['stock_symbol'] == '^DJI'].set_index(['m_date'])\n",
    "dji_index_friday = dji_stock_data_friday[dji_stock_data_friday['stock_symbol'] =='^DJI'].set_index(['m_date'])\n",
    "dji_index = dji_index_monday.join(dji_index_friday, lsuffix='r')\n",
    "dji_index['dji_return'] =  (dji_index.open_monday - dji_index.close_friday) *100 / dji_index.open_monday"
   ]
  },
  {
   "cell_type": "code",
   "execution_count": 20,
   "metadata": {},
   "outputs": [
    {
     "data": {
      "text/html": [
       "<div>\n",
       "<style scoped>\n",
       "    .dataframe tbody tr th:only-of-type {\n",
       "        vertical-align: middle;\n",
       "    }\n",
       "\n",
       "    .dataframe tbody tr th {\n",
       "        vertical-align: top;\n",
       "    }\n",
       "\n",
       "    .dataframe thead th {\n",
       "        text-align: right;\n",
       "    }\n",
       "</style>\n",
       "<table border=\"1\" class=\"dataframe\">\n",
       "  <thead>\n",
       "    <tr style=\"text-align: right;\">\n",
       "      <th></th>\n",
       "      <th></th>\n",
       "      <th>open_monday</th>\n",
       "    </tr>\n",
       "    <tr>\n",
       "      <th>stock_symbol</th>\n",
       "      <th>m_date</th>\n",
       "      <th></th>\n",
       "    </tr>\n",
       "  </thead>\n",
       "  <tbody>\n",
       "    <tr>\n",
       "      <th rowspan=\"5\" valign=\"top\">MMM</th>\n",
       "      <th>2013-01-07</th>\n",
       "      <td>95.019997</td>\n",
       "    </tr>\n",
       "    <tr>\n",
       "      <th>2013-01-14</th>\n",
       "      <td>96.400002</td>\n",
       "    </tr>\n",
       "    <tr>\n",
       "      <th>2013-01-28</th>\n",
       "      <td>100.980003</td>\n",
       "    </tr>\n",
       "    <tr>\n",
       "      <th>2013-02-04</th>\n",
       "      <td>100.769997</td>\n",
       "    </tr>\n",
       "    <tr>\n",
       "      <th>2013-02-11</th>\n",
       "      <td>102.389999</td>\n",
       "    </tr>\n",
       "  </tbody>\n",
       "</table>\n",
       "</div>"
      ],
      "text/plain": [
       "                         open_monday\n",
       "stock_symbol m_date                 \n",
       "MMM          2013-01-07    95.019997\n",
       "             2013-01-14    96.400002\n",
       "             2013-01-28   100.980003\n",
       "             2013-02-04   100.769997\n",
       "             2013-02-11   102.389999"
      ]
     },
     "execution_count": 20,
     "metadata": {},
     "output_type": "execute_result"
    }
   ],
   "source": [
    "dji_stock_data_monday = dji_stock_data_monday.set_index(['stock_symbol', 'm_date'])\n",
    "dji_stock_data_monday.head()"
   ]
  },
  {
   "cell_type": "code",
   "execution_count": 21,
   "metadata": {},
   "outputs": [
    {
     "data": {
      "text/html": [
       "<div>\n",
       "<style scoped>\n",
       "    .dataframe tbody tr th:only-of-type {\n",
       "        vertical-align: middle;\n",
       "    }\n",
       "\n",
       "    .dataframe tbody tr th {\n",
       "        vertical-align: top;\n",
       "    }\n",
       "\n",
       "    .dataframe thead th {\n",
       "        text-align: right;\n",
       "    }\n",
       "</style>\n",
       "<table border=\"1\" class=\"dataframe\">\n",
       "  <thead>\n",
       "    <tr style=\"text-align: right;\">\n",
       "      <th></th>\n",
       "      <th></th>\n",
       "      <th>close_friday</th>\n",
       "    </tr>\n",
       "    <tr>\n",
       "      <th>stock_symbol</th>\n",
       "      <th>m_date</th>\n",
       "      <th></th>\n",
       "    </tr>\n",
       "  </thead>\n",
       "  <tbody>\n",
       "    <tr>\n",
       "      <th rowspan=\"5\" valign=\"top\">MMM</th>\n",
       "      <th>2012-12-31</th>\n",
       "      <td>95.370003</td>\n",
       "    </tr>\n",
       "    <tr>\n",
       "      <th>2013-01-07</th>\n",
       "      <td>96.279999</td>\n",
       "    </tr>\n",
       "    <tr>\n",
       "      <th>2013-01-14</th>\n",
       "      <td>98.739998</td>\n",
       "    </tr>\n",
       "    <tr>\n",
       "      <th>2013-01-21</th>\n",
       "      <td>100.589996</td>\n",
       "    </tr>\n",
       "    <tr>\n",
       "      <th>2013-01-28</th>\n",
       "      <td>101.559998</td>\n",
       "    </tr>\n",
       "  </tbody>\n",
       "</table>\n",
       "</div>"
      ],
      "text/plain": [
       "                         close_friday\n",
       "stock_symbol m_date                  \n",
       "MMM          2012-12-31     95.370003\n",
       "             2013-01-07     96.279999\n",
       "             2013-01-14     98.739998\n",
       "             2013-01-21    100.589996\n",
       "             2013-01-28    101.559998"
      ]
     },
     "execution_count": 21,
     "metadata": {},
     "output_type": "execute_result"
    }
   ],
   "source": [
    "dji_stock_data_friday = dji_stock_data_friday.set_index(['stock_symbol', 'm_date'])\n",
    "dji_stock_data_friday.head()"
   ]
  },
  {
   "cell_type": "code",
   "execution_count": 22,
   "metadata": {},
   "outputs": [
    {
     "data": {
      "text/html": [
       "<div>\n",
       "<style scoped>\n",
       "    .dataframe tbody tr th:only-of-type {\n",
       "        vertical-align: middle;\n",
       "    }\n",
       "\n",
       "    .dataframe tbody tr th {\n",
       "        vertical-align: top;\n",
       "    }\n",
       "\n",
       "    .dataframe thead th {\n",
       "        text-align: right;\n",
       "    }\n",
       "</style>\n",
       "<table border=\"1\" class=\"dataframe\">\n",
       "  <thead>\n",
       "    <tr style=\"text-align: right;\">\n",
       "      <th></th>\n",
       "      <th></th>\n",
       "      <th>gt_index</th>\n",
       "      <th>adjusted_gt_index</th>\n",
       "      <th>date</th>\n",
       "      <th>open_monday</th>\n",
       "      <th>close_friday</th>\n",
       "      <th>dji_return</th>\n",
       "    </tr>\n",
       "    <tr>\n",
       "      <th>stock_symbol</th>\n",
       "      <th>m_date</th>\n",
       "      <th></th>\n",
       "      <th></th>\n",
       "      <th></th>\n",
       "      <th></th>\n",
       "      <th></th>\n",
       "      <th></th>\n",
       "    </tr>\n",
       "  </thead>\n",
       "  <tbody>\n",
       "    <tr>\n",
       "      <th rowspan=\"5\" valign=\"top\">AAPL</th>\n",
       "      <th>2013-09-30</th>\n",
       "      <td>20</td>\n",
       "      <td>-0.420747</td>\n",
       "      <td>2013-09-29</td>\n",
       "      <td>68.178574</td>\n",
       "      <td>69.004288</td>\n",
       "      <td>1.162245</td>\n",
       "    </tr>\n",
       "    <tr>\n",
       "      <th>2013-10-07</th>\n",
       "      <td>19</td>\n",
       "      <td>-0.474552</td>\n",
       "      <td>2013-10-06</td>\n",
       "      <td>69.508568</td>\n",
       "      <td>70.401428</td>\n",
       "      <td>-1.113592</td>\n",
       "    </tr>\n",
       "    <tr>\n",
       "      <th>2013-10-14</th>\n",
       "      <td>22</td>\n",
       "      <td>-0.313138</td>\n",
       "      <td>2013-10-13</td>\n",
       "      <td>69.975716</td>\n",
       "      <td>72.698570</td>\n",
       "      <td>-1.105093</td>\n",
       "    </tr>\n",
       "    <tr>\n",
       "      <th>2013-10-21</th>\n",
       "      <td>25</td>\n",
       "      <td>-0.151725</td>\n",
       "      <td>2013-10-20</td>\n",
       "      <td>73.110001</td>\n",
       "      <td>75.137146</td>\n",
       "      <td>-1.097049</td>\n",
       "    </tr>\n",
       "    <tr>\n",
       "      <th>2013-10-28</th>\n",
       "      <td>26</td>\n",
       "      <td>-0.097920</td>\n",
       "      <td>2013-10-27</td>\n",
       "      <td>75.577141</td>\n",
       "      <td>74.290001</td>\n",
       "      <td>-0.297764</td>\n",
       "    </tr>\n",
       "  </tbody>\n",
       "</table>\n",
       "</div>"
      ],
      "text/plain": [
       "                         gt_index  adjusted_gt_index       date  open_monday  \\\n",
       "stock_symbol m_date                                                            \n",
       "AAPL         2013-09-30        20          -0.420747 2013-09-29    68.178574   \n",
       "             2013-10-07        19          -0.474552 2013-10-06    69.508568   \n",
       "             2013-10-14        22          -0.313138 2013-10-13    69.975716   \n",
       "             2013-10-21        25          -0.151725 2013-10-20    73.110001   \n",
       "             2013-10-28        26          -0.097920 2013-10-27    75.577141   \n",
       "\n",
       "                         close_friday  dji_return  \n",
       "stock_symbol m_date                                \n",
       "AAPL         2013-09-30     69.004288    1.162245  \n",
       "             2013-10-07     70.401428   -1.113592  \n",
       "             2013-10-14     72.698570   -1.105093  \n",
       "             2013-10-21     75.137146   -1.097049  \n",
       "             2013-10-28     74.290001   -0.297764  "
      ]
     },
     "execution_count": 22,
     "metadata": {},
     "output_type": "execute_result"
    }
   ],
   "source": [
    "df_final = dji_gt_data.join(dji_stock_data_monday.join(dji_stock_data_friday))\n",
    "df_final = df_final.join(dji_index['dji_return'])\n",
    "df_final.head()"
   ]
  },
  {
   "cell_type": "code",
   "execution_count": 23,
   "metadata": {},
   "outputs": [],
   "source": [
    "import numpy as np\n",
    "\n",
    "df_final['percent_change'] = (df_final.open_monday - df_final.close_friday) *100 / df_final.open_monday \n",
    "df_final['abs_percent_change'] = np.abs((df_final.open_monday - df_final.close_friday) / df_final.open_monday) *100\n",
    "\n",
    "df_final['excess_percent_change'] = df_final['percent_change'] - df_final['dji_return']\n",
    "\n",
    "df_final['postive_change_dummy'] = (df_final['percent_change'] >0).astype(int)\n",
    "df_final['postive_excess_change_dummy'] = (df_final['excess_percent_change'] >0).astype(int)"
   ]
  },
  {
   "cell_type": "markdown",
   "metadata": {},
   "source": [
    "## Scatter plot where x_axis = GTI, y_axis =  excess_percent_change in comparison to DJI index"
   ]
  },
  {
   "cell_type": "code",
   "execution_count": 42,
   "metadata": {},
   "outputs": [
    {
     "data": {
      "image/png": "[encoded data removed]",
      "text/plain": [
       "<Figure size 1088x1296 with 30 Axes>"
      ]
     },
     "metadata": {},
     "output_type": "display_data"
    }
   ],
   "source": [
    "import matplotlib.pyplot as plt\n",
    "import seaborn as sns\n",
    "\n",
    "df_temp1 = df_final.reset_index()\n",
    "df_temp1.rename(index=str, columns={\"stock_symbol\": \"Stock Symbol\", \"adjusted_gt_index\": \"Standarized GTI\", \n",
    "                                   \"excess_percent_change\": \"Excess Return to DJI %\"}, inplace = True)\n",
    "g = sns.FacetGrid(df_temp1, col=\"Stock Symbol\", col_wrap=5)\n",
    "g.map(sns.regplot, \"Standarized GTI\", \"Excess Return to DJI %\")\n",
    "g.add_legend()\n",
    "\n",
    "g.savefig(\"/Users/jugalmarfatia/Documents/fall 2018/google_trends_stocks/Google-trends-stock-data/results/figure_1.pdf\")"
   ]
  },
  {
   "cell_type": "markdown",
   "metadata": {},
   "source": [
    "## Plot GTI for few stocks to show trends"
   ]
  },
  {
   "cell_type": "code",
   "execution_count": 25,
   "metadata": {},
   "outputs": [
    {
     "data": {
      "text/html": [
       "<iframe id=\"igraph\" scrolling=\"no\" style=\"border:none;\" seamless=\"seamless\" src=\"https://plot.ly/~jmarfati/97.embed\" height=\"525px\" width=\"100%\"></iframe>"
      ],
      "text/plain": [
       "<plotly.tools.PlotlyDisplay object>"
      ]
     },
     "execution_count": 25,
     "metadata": {},
     "output_type": "execute_result"
    }
   ],
   "source": [
    "import plotly.plotly as py\n",
    "import cufflinks as cf\n",
    "import plotly.graph_objs as go\n",
    "\n",
    "df = pd.pivot_table(df_final.reset_index(), values='gt_index', index=['m_date'],\n",
    "                    columns=['stock_symbol'], aggfunc=np.sum)\n",
    "\n",
    "figure = df[['AAPL',  'VZ', 'NKE',]].iplot(kind='scatter',asFigure=True)\n",
    "figure['layout']['yaxis1'].update({'title': 'Google Trends Index'})\n",
    "figure['layout'].update(title='GTI for Apple, Version and Nike')\n",
    "\n",
    "py.iplot(figure, filename='figure2')\n"
   ]
  },
  {
   "cell_type": "markdown",
   "metadata": {},
   "source": [
    "## Plot Standarized GTI for few stocks to show trends and difference from unadjusted"
   ]
  },
  {
   "cell_type": "code",
   "execution_count": 26,
   "metadata": {},
   "outputs": [
    {
     "data": {
      "text/html": [
       "<iframe id=\"igraph\" scrolling=\"no\" style=\"border:none;\" seamless=\"seamless\" src=\"https://plot.ly/~jmarfati/95.embed\" height=\"525px\" width=\"100%\"></iframe>"
      ],
      "text/plain": [
       "<plotly.tools.PlotlyDisplay object>"
      ]
     },
     "execution_count": 26,
     "metadata": {},
     "output_type": "execute_result"
    }
   ],
   "source": [
    "df = pd.pivot_table(df_final.reset_index(), values='adjusted_gt_index', index=['m_date'],\n",
    "                    columns=['stock_symbol'], aggfunc=np.sum)\n",
    "\n",
    "figure = df[['AAPL',  'VZ', 'NKE',]].iplot(kind='scatter', asFigure=True)\n",
    "figure['layout']['yaxis1'].update({'title': 'Standardized Google Trends Index'})\n",
    "figure['layout'].update(title='Standardized GTI for Apple, Version and Nike')\n",
    "\n",
    "py.iplot(figure, filename='figure3')"
   ]
  },
  {
   "cell_type": "code",
   "execution_count": 27,
   "metadata": {},
   "outputs": [
    {
     "data": {
      "text/html": [
       "<div>\n",
       "<style scoped>\n",
       "    .dataframe tbody tr th:only-of-type {\n",
       "        vertical-align: middle;\n",
       "    }\n",
       "\n",
       "    .dataframe tbody tr th {\n",
       "        vertical-align: top;\n",
       "    }\n",
       "\n",
       "    .dataframe thead th {\n",
       "        text-align: right;\n",
       "    }\n",
       "</style>\n",
       "<table border=\"1\" class=\"dataframe\">\n",
       "  <thead>\n",
       "    <tr style=\"text-align: right;\">\n",
       "      <th></th>\n",
       "      <th></th>\n",
       "      <th>gt_index</th>\n",
       "      <th>adjusted_gt_index</th>\n",
       "      <th>date</th>\n",
       "      <th>open_monday</th>\n",
       "      <th>close_friday</th>\n",
       "      <th>dji_return</th>\n",
       "      <th>percent_change</th>\n",
       "      <th>abs_percent_change</th>\n",
       "      <th>excess_percent_change</th>\n",
       "      <th>postive_change_dummy</th>\n",
       "      <th>postive_excess_change_dummy</th>\n",
       "      <th>gt_index_lag1</th>\n",
       "      <th>adjusted_gt_index_lag1</th>\n",
       "    </tr>\n",
       "    <tr>\n",
       "      <th>stock_symbol</th>\n",
       "      <th>m_date</th>\n",
       "      <th></th>\n",
       "      <th></th>\n",
       "      <th></th>\n",
       "      <th></th>\n",
       "      <th></th>\n",
       "      <th></th>\n",
       "      <th></th>\n",
       "      <th></th>\n",
       "      <th></th>\n",
       "      <th></th>\n",
       "      <th></th>\n",
       "      <th></th>\n",
       "      <th></th>\n",
       "    </tr>\n",
       "  </thead>\n",
       "  <tbody>\n",
       "    <tr>\n",
       "      <th rowspan=\"5\" valign=\"top\">AAPL</th>\n",
       "      <th>2013-09-30</th>\n",
       "      <td>20</td>\n",
       "      <td>-0.420747</td>\n",
       "      <td>2013-09-29</td>\n",
       "      <td>68.178574</td>\n",
       "      <td>69.004288</td>\n",
       "      <td>1.162245</td>\n",
       "      <td>-1.211105</td>\n",
       "      <td>1.211105</td>\n",
       "      <td>-2.373350</td>\n",
       "      <td>0</td>\n",
       "      <td>0</td>\n",
       "      <td>NaN</td>\n",
       "      <td>NaN</td>\n",
       "    </tr>\n",
       "    <tr>\n",
       "      <th>2013-10-07</th>\n",
       "      <td>19</td>\n",
       "      <td>-0.474552</td>\n",
       "      <td>2013-10-06</td>\n",
       "      <td>69.508568</td>\n",
       "      <td>70.401428</td>\n",
       "      <td>-1.113592</td>\n",
       "      <td>-1.284532</td>\n",
       "      <td>1.284532</td>\n",
       "      <td>-0.170940</td>\n",
       "      <td>0</td>\n",
       "      <td>0</td>\n",
       "      <td>20.0</td>\n",
       "      <td>-0.420747</td>\n",
       "    </tr>\n",
       "    <tr>\n",
       "      <th>2013-10-14</th>\n",
       "      <td>22</td>\n",
       "      <td>-0.313138</td>\n",
       "      <td>2013-10-13</td>\n",
       "      <td>69.975716</td>\n",
       "      <td>72.698570</td>\n",
       "      <td>-1.105093</td>\n",
       "      <td>-3.891141</td>\n",
       "      <td>3.891141</td>\n",
       "      <td>-2.786049</td>\n",
       "      <td>0</td>\n",
       "      <td>0</td>\n",
       "      <td>19.0</td>\n",
       "      <td>-0.474552</td>\n",
       "    </tr>\n",
       "    <tr>\n",
       "      <th>2013-10-21</th>\n",
       "      <td>25</td>\n",
       "      <td>-0.151725</td>\n",
       "      <td>2013-10-20</td>\n",
       "      <td>73.110001</td>\n",
       "      <td>75.137146</td>\n",
       "      <td>-1.097049</td>\n",
       "      <td>-2.772733</td>\n",
       "      <td>2.772733</td>\n",
       "      <td>-1.675684</td>\n",
       "      <td>0</td>\n",
       "      <td>0</td>\n",
       "      <td>22.0</td>\n",
       "      <td>-0.313138</td>\n",
       "    </tr>\n",
       "    <tr>\n",
       "      <th>2013-10-28</th>\n",
       "      <td>26</td>\n",
       "      <td>-0.097920</td>\n",
       "      <td>2013-10-27</td>\n",
       "      <td>75.577141</td>\n",
       "      <td>74.290001</td>\n",
       "      <td>-0.297764</td>\n",
       "      <td>1.703081</td>\n",
       "      <td>1.703081</td>\n",
       "      <td>2.000845</td>\n",
       "      <td>1</td>\n",
       "      <td>1</td>\n",
       "      <td>25.0</td>\n",
       "      <td>-0.151725</td>\n",
       "    </tr>\n",
       "  </tbody>\n",
       "</table>\n",
       "</div>"
      ],
      "text/plain": [
       "                         gt_index  adjusted_gt_index       date  open_monday  \\\n",
       "stock_symbol m_date                                                            \n",
       "AAPL         2013-09-30        20          -0.420747 2013-09-29    68.178574   \n",
       "             2013-10-07        19          -0.474552 2013-10-06    69.508568   \n",
       "             2013-10-14        22          -0.313138 2013-10-13    69.975716   \n",
       "             2013-10-21        25          -0.151725 2013-10-20    73.110001   \n",
       "             2013-10-28        26          -0.097920 2013-10-27    75.577141   \n",
       "\n",
       "                         close_friday  dji_return  percent_change  \\\n",
       "stock_symbol m_date                                                 \n",
       "AAPL         2013-09-30     69.004288    1.162245       -1.211105   \n",
       "             2013-10-07     70.401428   -1.113592       -1.284532   \n",
       "             2013-10-14     72.698570   -1.105093       -3.891141   \n",
       "             2013-10-21     75.137146   -1.097049       -2.772733   \n",
       "             2013-10-28     74.290001   -0.297764        1.703081   \n",
       "\n",
       "                         abs_percent_change  excess_percent_change  \\\n",
       "stock_symbol m_date                                                  \n",
       "AAPL         2013-09-30            1.211105              -2.373350   \n",
       "             2013-10-07            1.284532              -0.170940   \n",
       "             2013-10-14            3.891141              -2.786049   \n",
       "             2013-10-21            2.772733              -1.675684   \n",
       "             2013-10-28            1.703081               2.000845   \n",
       "\n",
       "                         postive_change_dummy  postive_excess_change_dummy  \\\n",
       "stock_symbol m_date                                                          \n",
       "AAPL         2013-09-30                     0                            0   \n",
       "             2013-10-07                     0                            0   \n",
       "             2013-10-14                     0                            0   \n",
       "             2013-10-21                     0                            0   \n",
       "             2013-10-28                     1                            1   \n",
       "\n",
       "                         gt_index_lag1  adjusted_gt_index_lag1  \n",
       "stock_symbol m_date                                             \n",
       "AAPL         2013-09-30            NaN                     NaN  \n",
       "             2013-10-07           20.0               -0.420747  \n",
       "             2013-10-14           19.0               -0.474552  \n",
       "             2013-10-21           22.0               -0.313138  \n",
       "             2013-10-28           25.0               -0.151725  "
      ]
     },
     "execution_count": 27,
     "metadata": {},
     "output_type": "execute_result"
    }
   ],
   "source": [
    "df_final['gt_index_lag1'] = df_final['gt_index'].shift(1)\n",
    "df_final['adjusted_gt_index_lag1'] = df_final['adjusted_gt_index'].shift(1)\n",
    "df_final.head()"
   ]
  },
  {
   "cell_type": "markdown",
   "metadata": {},
   "source": [
    "## Fixed effect with only 1 lag value. Dep Var = excess_percent_change"
   ]
  },
  {
   "cell_type": "code",
   "execution_count": 28,
   "metadata": {},
   "outputs": [
    {
     "name": "stdout",
     "output_type": "stream",
     "text": [
      "                            PanelOLS Estimation Summary                            \n",
      "===================================================================================\n",
      "Dep. Variable:     excess_percent_change   R-squared:                        0.0022\n",
      "Estimator:                      PanelOLS   R-squared (Between):             -0.0029\n",
      "No. Observations:                   6780   R-squared (Within):              -0.0008\n",
      "Date:                   Thu, Nov 08 2018   R-squared (Overall):             -0.0008\n",
      "Time:                           10:57:21   Log-likelihood                 -1.47e+04\n",
      "Cov. Estimator:                Clustered                                           \n",
      "                                           F-statistic:                      14.083\n",
      "Entities:                             30   P-value                           0.0002\n",
      "Avg Obs:                          226.00   Distribution:                  F(1,6524)\n",
      "Min Obs:                          226.00                                           \n",
      "Max Obs:                          226.00   F-statistic (robust):             4.8955\n",
      "                                           P-value                           0.0270\n",
      "Time periods:                        226   Distribution:                  F(1,6524)\n",
      "Avg Obs:                          30.000                                           \n",
      "Min Obs:                          30.000                                           \n",
      "Max Obs:                          30.000                                           \n",
      "                                                                                   \n",
      "                                 Parameter Estimates                                 \n",
      "=====================================================================================\n",
      "                   Parameter  Std. Err.     T-stat    P-value    Lower CI    Upper CI\n",
      "-------------------------------------------------------------------------------------\n",
      "const                -0.0537     0.0013    -41.641     0.0000     -0.0562     -0.0512\n",
      "adjusted_gt_index    -0.1738     0.0785    -2.2126     0.0270     -0.3278     -0.0198\n",
      "=====================================================================================\n",
      "\n",
      "F-test for Poolability: 2.0501\n",
      "P-value: 0.0000\n",
      "Distribution: F(254,6524)\n",
      "\n",
      "Included effects: Entity, Time\n"
     ]
    },
    {
     "name": "stderr",
     "output_type": "stream",
     "text": [
      "/anaconda3/lib/python3.6/site-packages/linearmodels/utility.py:496: MissingValueWarning:\n",
      "\n",
      "\n",
      "Inputs contain missing values. Dropping rows with missing observations.\n",
      "\n"
     ]
    }
   ],
   "source": [
    "from linearmodels import PanelOLS\n",
    "from linearmodels.panel import PooledOLS\n",
    "import statsmodels.api as sm\n",
    "\n",
    "exog_vars = ['adjusted_gt_index']\n",
    "\n",
    "exog_mean = sm.add_constant(df_final[exog_vars])\n",
    "mod = PanelOLS(df_final.excess_percent_change, exog_mean, entity_effects=True, time_effects=True)\n",
    "res = mod.fit(cov_type='clustered', cluster_entity=True)\n",
    "print(res.summary)\n"
   ]
  },
  {
   "cell_type": "markdown",
   "metadata": {},
   "source": [
    "## Fixed effect with only 1 lag value. Dep Var = postive_excess_change_dummy"
   ]
  },
  {
   "cell_type": "code",
   "execution_count": 29,
   "metadata": {},
   "outputs": [
    {
     "name": "stdout",
     "output_type": "stream",
     "text": [
      "                               PanelOLS Estimation Summary                               \n",
      "=========================================================================================\n",
      "Dep. Variable:     postive_excess_change_dummy   R-squared:                        0.0008\n",
      "Estimator:                            PanelOLS   R-squared (Between):              0.0000\n",
      "No. Observations:                         7830   R-squared (Within):              -0.0024\n",
      "Date:                         Thu, Nov 08 2018   R-squared (Overall):             -0.0023\n",
      "Time:                                 10:57:22   Log-likelihood                   -4849.6\n",
      "Cov. Estimator:                      Clustered                                           \n",
      "                                                 F-statistic:                      5.7018\n",
      "Entities:                                   30   P-value                           0.0170\n",
      "Avg Obs:                                261.00   Distribution:                  F(1,7539)\n",
      "Min Obs:                                261.00                                           \n",
      "Max Obs:                                261.00   F-statistic (robust):             7.0298\n",
      "                                                 P-value                           0.0080\n",
      "Time periods:                              261   Distribution:                  F(1,7539)\n",
      "Avg Obs:                                30.000                                           \n",
      "Min Obs:                                30.000                                           \n",
      "Max Obs:                                30.000                                           \n",
      "                                                                                         \n",
      "                                 Parameter Estimates                                 \n",
      "=====================================================================================\n",
      "                   Parameter  Std. Err.     T-stat    P-value    Lower CI    Upper CI\n",
      "-------------------------------------------------------------------------------------\n",
      "const                 0.4333  7.541e-17  5.746e+15     0.0000      0.4333      0.4333\n",
      "adjusted_gt_index    -0.0219     0.0083    -2.6514     0.0080     -0.0381     -0.0057\n",
      "=====================================================================================\n",
      "\n",
      "F-test for Poolability: 5.6094\n",
      "P-value: 0.0000\n",
      "Distribution: F(289,7539)\n",
      "\n",
      "Included effects: Entity, Time\n"
     ]
    }
   ],
   "source": [
    "mod = PanelOLS(df_final.postive_excess_change_dummy, exog_mean, entity_effects=True, time_effects=True)\n",
    "res = mod.fit(cov_type='clustered', cluster_entity=True)\n",
    "print(res.summary)"
   ]
  },
  {
   "cell_type": "code",
   "execution_count": 30,
   "metadata": {},
   "outputs": [],
   "source": [
    "df_final = df_final.reset_index()\n",
    "df_final.loc[df_final.m_date == ('2013-09-30'),'gt_index_lag1'] = np.nan \n",
    "df_final.loc[df_final.m_date == ('2013-09-30'),'adjusted_gt_index_lag1'] = np.nan \n",
    "df_final = df_final.set_index(['stock_symbol', 'm_date'])"
   ]
  },
  {
   "cell_type": "markdown",
   "metadata": {},
   "source": [
    "## Fixed effect with only 2 lag value. Dep Var = excess_percent_change"
   ]
  },
  {
   "cell_type": "code",
   "execution_count": 31,
   "metadata": {},
   "outputs": [
    {
     "name": "stdout",
     "output_type": "stream",
     "text": [
      "                            PanelOLS Estimation Summary                            \n",
      "===================================================================================\n",
      "Dep. Variable:     excess_percent_change   R-squared:                        0.0038\n",
      "Estimator:                      PanelOLS   R-squared (Between):             -0.0159\n",
      "No. Observations:                   6750   R-squared (Within):               0.0031\n",
      "Date:                   Thu, Nov 08 2018   R-squared (Overall):              0.0030\n",
      "Time:                           10:57:22   Log-likelihood                -1.463e+04\n",
      "Cov. Estimator:                Clustered                                           \n",
      "                                           F-statistic:                      12.486\n",
      "Entities:                             30   P-value                           0.0000\n",
      "Avg Obs:                          225.00   Distribution:                  F(2,6494)\n",
      "Min Obs:                          225.00                                           \n",
      "Max Obs:                          225.00   F-statistic (robust):             3.3680\n",
      "                                           P-value                           0.0345\n",
      "Time periods:                        225   Distribution:                  F(2,6494)\n",
      "Avg Obs:                          30.000                                           \n",
      "Min Obs:                          30.000                                           \n",
      "Max Obs:                          30.000                                           \n",
      "                                                                                   \n",
      "                                   Parameter Estimates                                    \n",
      "==========================================================================================\n",
      "                        Parameter  Std. Err.     T-stat    P-value    Lower CI    Upper CI\n",
      "------------------------------------------------------------------------------------------\n",
      "const                     -0.0436     0.0028    -15.381     0.0000     -0.0492     -0.0380\n",
      "adjusted_gt_index         -0.2841     0.1097    -2.5896     0.0096     -0.4992     -0.0690\n",
      "adjusted_gt_index_lag1     0.1816     0.0849     2.1392     0.0325      0.0152      0.3480\n",
      "==========================================================================================\n",
      "\n",
      "F-test for Poolability: 1.9735\n",
      "P-value: 0.0000\n",
      "Distribution: F(253,6494)\n",
      "\n",
      "Included effects: Entity, Time\n"
     ]
    },
    {
     "name": "stderr",
     "output_type": "stream",
     "text": [
      "/anaconda3/lib/python3.6/site-packages/linearmodels/utility.py:496: MissingValueWarning:\n",
      "\n",
      "\n",
      "Inputs contain missing values. Dropping rows with missing observations.\n",
      "\n"
     ]
    }
   ],
   "source": [
    "exog_vars = ['adjusted_gt_index', 'adjusted_gt_index_lag1']\n",
    "\n",
    "exog_mean = sm.add_constant(df_final[exog_vars])\n",
    "mod = PanelOLS(df_final.excess_percent_change, exog_mean, entity_effects=True, time_effects=True)\n",
    "res = mod.fit(cov_type='clustered', cluster_entity=True)\n",
    "print(res.summary)\n"
   ]
  },
  {
   "cell_type": "markdown",
   "metadata": {},
   "source": [
    "## Fixed effect with only 2 lag value. Dep Var = postive_excess_change_dummy"
   ]
  },
  {
   "cell_type": "code",
   "execution_count": 32,
   "metadata": {},
   "outputs": [
    {
     "name": "stderr",
     "output_type": "stream",
     "text": [
      "/anaconda3/lib/python3.6/site-packages/linearmodels/utility.py:496: MissingValueWarning:\n",
      "\n",
      "\n",
      "Inputs contain missing values. Dropping rows with missing observations.\n",
      "\n"
     ]
    },
    {
     "name": "stdout",
     "output_type": "stream",
     "text": [
      "                               PanelOLS Estimation Summary                               \n",
      "=========================================================================================\n",
      "Dep. Variable:     postive_excess_change_dummy   R-squared:                        0.0018\n",
      "Estimator:                            PanelOLS   R-squared (Between):             -0.0004\n",
      "No. Observations:                         7800   R-squared (Within):              -0.0027\n",
      "Date:                         Thu, Nov 08 2018   R-squared (Overall):             -0.0027\n",
      "Time:                                 10:57:22   Log-likelihood                   -4832.0\n",
      "Cov. Estimator:                      Clustered                                           \n",
      "                                                 F-statistic:                      6.6488\n",
      "Entities:                                   30   P-value                           0.0013\n",
      "Avg Obs:                                260.00   Distribution:                  F(2,7509)\n",
      "Min Obs:                                260.00                                           \n",
      "Max Obs:                                260.00   F-statistic (robust):             7.5666\n",
      "                                                 P-value                           0.0005\n",
      "Time periods:                              260   Distribution:                  F(2,7509)\n",
      "Avg Obs:                                30.000                                           \n",
      "Min Obs:                                30.000                                           \n",
      "Max Obs:                                30.000                                           \n",
      "                                                                                         \n",
      "                                   Parameter Estimates                                    \n",
      "==========================================================================================\n",
      "                        Parameter  Std. Err.     T-stat    P-value    Lower CI    Upper CI\n",
      "------------------------------------------------------------------------------------------\n",
      "const                      0.4345  3.412e-05  1.273e+04     0.0000      0.4344      0.4346\n",
      "adjusted_gt_index         -0.0399     0.0103    -3.8746     0.0001     -0.0600     -0.0197\n",
      "adjusted_gt_index_lag1     0.0309     0.0134     2.3050     0.0212      0.0046      0.0572\n",
      "==========================================================================================\n",
      "\n",
      "F-test for Poolability: 5.6165\n",
      "P-value: 0.0000\n",
      "Distribution: F(288,7509)\n",
      "\n",
      "Included effects: Entity, Time\n"
     ]
    }
   ],
   "source": [
    "mod = PanelOLS(df_final.postive_excess_change_dummy, exog_mean, entity_effects=True, time_effects=True)\n",
    "res = mod.fit(cov_type='clustered', cluster_entity=True)\n",
    "print(res.summary)\n"
   ]
  },
  {
   "cell_type": "code",
   "execution_count": 33,
   "metadata": {},
   "outputs": [
    {
     "data": {
      "text/html": [
       "<div>\n",
       "<style scoped>\n",
       "    .dataframe tbody tr th:only-of-type {\n",
       "        vertical-align: middle;\n",
       "    }\n",
       "\n",
       "    .dataframe tbody tr th {\n",
       "        vertical-align: top;\n",
       "    }\n",
       "\n",
       "    .dataframe thead th {\n",
       "        text-align: right;\n",
       "    }\n",
       "</style>\n",
       "<table border=\"1\" class=\"dataframe\">\n",
       "  <thead>\n",
       "    <tr style=\"text-align: right;\">\n",
       "      <th></th>\n",
       "      <th></th>\n",
       "      <th>gt_index</th>\n",
       "      <th>adjusted_gt_index</th>\n",
       "      <th>date</th>\n",
       "      <th>open_monday</th>\n",
       "      <th>close_friday</th>\n",
       "      <th>dji_return</th>\n",
       "      <th>percent_change</th>\n",
       "      <th>abs_percent_change</th>\n",
       "      <th>excess_percent_change</th>\n",
       "      <th>postive_change_dummy</th>\n",
       "      <th>postive_excess_change_dummy</th>\n",
       "      <th>gt_index_lag1</th>\n",
       "      <th>adjusted_gt_index_lag1</th>\n",
       "      <th>gt_index_lag2</th>\n",
       "      <th>adjusted_gt_index_lag2</th>\n",
       "      <th>gt_index_lag3</th>\n",
       "      <th>adjusted_gt_index_lag3</th>\n",
       "    </tr>\n",
       "    <tr>\n",
       "      <th>stock_symbol</th>\n",
       "      <th>m_date</th>\n",
       "      <th></th>\n",
       "      <th></th>\n",
       "      <th></th>\n",
       "      <th></th>\n",
       "      <th></th>\n",
       "      <th></th>\n",
       "      <th></th>\n",
       "      <th></th>\n",
       "      <th></th>\n",
       "      <th></th>\n",
       "      <th></th>\n",
       "      <th></th>\n",
       "      <th></th>\n",
       "      <th></th>\n",
       "      <th></th>\n",
       "      <th></th>\n",
       "      <th></th>\n",
       "    </tr>\n",
       "  </thead>\n",
       "  <tbody>\n",
       "    <tr>\n",
       "      <th rowspan=\"5\" valign=\"top\">AAPL</th>\n",
       "      <th>2013-09-30</th>\n",
       "      <td>20</td>\n",
       "      <td>-0.420747</td>\n",
       "      <td>2013-09-29</td>\n",
       "      <td>68.178574</td>\n",
       "      <td>69.004288</td>\n",
       "      <td>1.162245</td>\n",
       "      <td>-1.211105</td>\n",
       "      <td>1.211105</td>\n",
       "      <td>-2.373350</td>\n",
       "      <td>0</td>\n",
       "      <td>0</td>\n",
       "      <td>NaN</td>\n",
       "      <td>NaN</td>\n",
       "      <td>NaN</td>\n",
       "      <td>NaN</td>\n",
       "      <td>NaN</td>\n",
       "      <td>NaN</td>\n",
       "    </tr>\n",
       "    <tr>\n",
       "      <th>2013-10-07</th>\n",
       "      <td>19</td>\n",
       "      <td>-0.474552</td>\n",
       "      <td>2013-10-06</td>\n",
       "      <td>69.508568</td>\n",
       "      <td>70.401428</td>\n",
       "      <td>-1.113592</td>\n",
       "      <td>-1.284532</td>\n",
       "      <td>1.284532</td>\n",
       "      <td>-0.170940</td>\n",
       "      <td>0</td>\n",
       "      <td>0</td>\n",
       "      <td>20.0</td>\n",
       "      <td>-0.420747</td>\n",
       "      <td>NaN</td>\n",
       "      <td>NaN</td>\n",
       "      <td>NaN</td>\n",
       "      <td>NaN</td>\n",
       "    </tr>\n",
       "    <tr>\n",
       "      <th>2013-10-14</th>\n",
       "      <td>22</td>\n",
       "      <td>-0.313138</td>\n",
       "      <td>2013-10-13</td>\n",
       "      <td>69.975716</td>\n",
       "      <td>72.698570</td>\n",
       "      <td>-1.105093</td>\n",
       "      <td>-3.891141</td>\n",
       "      <td>3.891141</td>\n",
       "      <td>-2.786049</td>\n",
       "      <td>0</td>\n",
       "      <td>0</td>\n",
       "      <td>19.0</td>\n",
       "      <td>-0.474552</td>\n",
       "      <td>20.0</td>\n",
       "      <td>-0.420747</td>\n",
       "      <td>NaN</td>\n",
       "      <td>NaN</td>\n",
       "    </tr>\n",
       "    <tr>\n",
       "      <th>2013-10-21</th>\n",
       "      <td>25</td>\n",
       "      <td>-0.151725</td>\n",
       "      <td>2013-10-20</td>\n",
       "      <td>73.110001</td>\n",
       "      <td>75.137146</td>\n",
       "      <td>-1.097049</td>\n",
       "      <td>-2.772733</td>\n",
       "      <td>2.772733</td>\n",
       "      <td>-1.675684</td>\n",
       "      <td>0</td>\n",
       "      <td>0</td>\n",
       "      <td>22.0</td>\n",
       "      <td>-0.313138</td>\n",
       "      <td>19.0</td>\n",
       "      <td>-0.474552</td>\n",
       "      <td>20.0</td>\n",
       "      <td>-0.420747</td>\n",
       "    </tr>\n",
       "    <tr>\n",
       "      <th>2013-10-28</th>\n",
       "      <td>26</td>\n",
       "      <td>-0.097920</td>\n",
       "      <td>2013-10-27</td>\n",
       "      <td>75.577141</td>\n",
       "      <td>74.290001</td>\n",
       "      <td>-0.297764</td>\n",
       "      <td>1.703081</td>\n",
       "      <td>1.703081</td>\n",
       "      <td>2.000845</td>\n",
       "      <td>1</td>\n",
       "      <td>1</td>\n",
       "      <td>25.0</td>\n",
       "      <td>-0.151725</td>\n",
       "      <td>22.0</td>\n",
       "      <td>-0.313138</td>\n",
       "      <td>19.0</td>\n",
       "      <td>-0.474552</td>\n",
       "    </tr>\n",
       "  </tbody>\n",
       "</table>\n",
       "</div>"
      ],
      "text/plain": [
       "                         gt_index  adjusted_gt_index       date  open_monday  \\\n",
       "stock_symbol m_date                                                            \n",
       "AAPL         2013-09-30        20          -0.420747 2013-09-29    68.178574   \n",
       "             2013-10-07        19          -0.474552 2013-10-06    69.508568   \n",
       "             2013-10-14        22          -0.313138 2013-10-13    69.975716   \n",
       "             2013-10-21        25          -0.151725 2013-10-20    73.110001   \n",
       "             2013-10-28        26          -0.097920 2013-10-27    75.577141   \n",
       "\n",
       "                         close_friday  dji_return  percent_change  \\\n",
       "stock_symbol m_date                                                 \n",
       "AAPL         2013-09-30     69.004288    1.162245       -1.211105   \n",
       "             2013-10-07     70.401428   -1.113592       -1.284532   \n",
       "             2013-10-14     72.698570   -1.105093       -3.891141   \n",
       "             2013-10-21     75.137146   -1.097049       -2.772733   \n",
       "             2013-10-28     74.290001   -0.297764        1.703081   \n",
       "\n",
       "                         abs_percent_change  excess_percent_change  \\\n",
       "stock_symbol m_date                                                  \n",
       "AAPL         2013-09-30            1.211105              -2.373350   \n",
       "             2013-10-07            1.284532              -0.170940   \n",
       "             2013-10-14            3.891141              -2.786049   \n",
       "             2013-10-21            2.772733              -1.675684   \n",
       "             2013-10-28            1.703081               2.000845   \n",
       "\n",
       "                         postive_change_dummy  postive_excess_change_dummy  \\\n",
       "stock_symbol m_date                                                          \n",
       "AAPL         2013-09-30                     0                            0   \n",
       "             2013-10-07                     0                            0   \n",
       "             2013-10-14                     0                            0   \n",
       "             2013-10-21                     0                            0   \n",
       "             2013-10-28                     1                            1   \n",
       "\n",
       "                         gt_index_lag1  adjusted_gt_index_lag1  gt_index_lag2  \\\n",
       "stock_symbol m_date                                                             \n",
       "AAPL         2013-09-30            NaN                     NaN            NaN   \n",
       "             2013-10-07           20.0               -0.420747            NaN   \n",
       "             2013-10-14           19.0               -0.474552           20.0   \n",
       "             2013-10-21           22.0               -0.313138           19.0   \n",
       "             2013-10-28           25.0               -0.151725           22.0   \n",
       "\n",
       "                         adjusted_gt_index_lag2  gt_index_lag3  \\\n",
       "stock_symbol m_date                                              \n",
       "AAPL         2013-09-30                     NaN            NaN   \n",
       "             2013-10-07                     NaN            NaN   \n",
       "             2013-10-14               -0.420747            NaN   \n",
       "             2013-10-21               -0.474552           20.0   \n",
       "             2013-10-28               -0.313138           19.0   \n",
       "\n",
       "                         adjusted_gt_index_lag3  \n",
       "stock_symbol m_date                              \n",
       "AAPL         2013-09-30                     NaN  \n",
       "             2013-10-07                     NaN  \n",
       "             2013-10-14                     NaN  \n",
       "             2013-10-21               -0.420747  \n",
       "             2013-10-28               -0.474552  "
      ]
     },
     "execution_count": 33,
     "metadata": {},
     "output_type": "execute_result"
    }
   ],
   "source": [
    "df_final['gt_index_lag2'] = df_final['gt_index'].shift(2)\n",
    "df_final['adjusted_gt_index_lag2'] = df_final['adjusted_gt_index'].shift(2)\n",
    "df_final['gt_index_lag3'] = df_final['gt_index'].shift(3)\n",
    "df_final['adjusted_gt_index_lag3'] = df_final['adjusted_gt_index'].shift(3)\n",
    "df_final.head()"
   ]
  },
  {
   "cell_type": "code",
   "execution_count": 34,
   "metadata": {},
   "outputs": [],
   "source": [
    "df_final = df_final.reset_index()\n",
    "df_final.loc[df_final.m_date.isin(('2013-09-30', '2013-10-07')),'gt_index_lag2'] = np.nan \n",
    "df_final.loc[df_final.m_date.isin(('2013-09-30', '2013-10-07', '2013-10-14')),'gt_index_lag3'] = np.nan \n",
    "\n",
    "df_final.loc[df_final.m_date.isin(('2013-09-30', '2013-10-07')),'adjusted_gt_index_lag2'] = np.nan \n",
    "df_final.loc[df_final.m_date.isin(('2013-09-30', '2013-10-07', '2013-10-14')),'adjusted_gt_index_lag3'] = np.nan \n",
    "\n",
    "df_final = df_final.set_index(['stock_symbol', 'm_date'])"
   ]
  },
  {
   "cell_type": "markdown",
   "metadata": {},
   "source": [
    "## Fixed effect with only 4 lag value. Dep Var = excess_percent_change"
   ]
  },
  {
   "cell_type": "code",
   "execution_count": 35,
   "metadata": {},
   "outputs": [
    {
     "name": "stderr",
     "output_type": "stream",
     "text": [
      "/anaconda3/lib/python3.6/site-packages/linearmodels/utility.py:496: MissingValueWarning:\n",
      "\n",
      "\n",
      "Inputs contain missing values. Dropping rows with missing observations.\n",
      "\n"
     ]
    },
    {
     "name": "stdout",
     "output_type": "stream",
     "text": [
      "                            PanelOLS Estimation Summary                            \n",
      "===================================================================================\n",
      "Dep. Variable:     excess_percent_change   R-squared:                        0.0049\n",
      "Estimator:                      PanelOLS   R-squared (Between):             -0.0219\n",
      "No. Observations:                   6690   R-squared (Within):               0.0055\n",
      "Date:                   Thu, Nov 08 2018   R-squared (Overall):              0.0054\n",
      "Time:                           10:57:22   Log-likelihood                -1.449e+04\n",
      "Cov. Estimator:                Clustered                                           \n",
      "                                           F-statistic:                      7.8522\n",
      "Entities:                             30   P-value                           0.0000\n",
      "Avg Obs:                          223.00   Distribution:                  F(4,6434)\n",
      "Min Obs:                          223.00                                           \n",
      "Max Obs:                          223.00   F-statistic (robust):             2.2272\n",
      "                                           P-value                           0.0635\n",
      "Time periods:                        223   Distribution:                  F(4,6434)\n",
      "Avg Obs:                          30.000                                           \n",
      "Min Obs:                          30.000                                           \n",
      "Max Obs:                          30.000                                           \n",
      "                                                                                   \n",
      "                                   Parameter Estimates                                    \n",
      "==========================================================================================\n",
      "                        Parameter  Std. Err.     T-stat    P-value    Lower CI    Upper CI\n",
      "------------------------------------------------------------------------------------------\n",
      "const                     -0.0309     0.0041    -7.4794     0.0000     -0.0390     -0.0228\n",
      "adjusted_gt_index         -0.3324     0.1163    -2.8572     0.0043     -0.5605     -0.1043\n",
      "adjusted_gt_index_lag1     0.1306     0.0770     1.6956     0.0900     -0.0204      0.2815\n",
      "adjusted_gt_index_lag2     0.0765     0.0516     1.4817     0.1385     -0.0247      0.1776\n",
      "adjusted_gt_index_lag3     0.0835     0.0563     1.4836     0.1380     -0.0268      0.1937\n",
      "==========================================================================================\n",
      "\n",
      "F-test for Poolability: 1.9283\n",
      "P-value: 0.0000\n",
      "Distribution: F(251,6434)\n",
      "\n",
      "Included effects: Entity, Time\n"
     ]
    }
   ],
   "source": [
    "exog_vars = ['adjusted_gt_index', 'adjusted_gt_index_lag1', 'adjusted_gt_index_lag2', 'adjusted_gt_index_lag3']\n",
    "\n",
    "exog_mean = sm.add_constant(df_final[exog_vars])\n",
    "mod = PanelOLS(df_final.excess_percent_change, exog_mean, entity_effects=True, time_effects=True)\n",
    "res = mod.fit(cov_type='clustered', cluster_entity=True)\n",
    "print(res.summary)\n"
   ]
  },
  {
   "cell_type": "markdown",
   "metadata": {},
   "source": [
    "## Fixed effect with only 4 lag value. Dep Var = postive_excess_change_dummy"
   ]
  },
  {
   "cell_type": "code",
   "execution_count": 36,
   "metadata": {},
   "outputs": [
    {
     "name": "stderr",
     "output_type": "stream",
     "text": [
      "/anaconda3/lib/python3.6/site-packages/linearmodels/utility.py:496: MissingValueWarning:\n",
      "\n",
      "\n",
      "Inputs contain missing values. Dropping rows with missing observations.\n",
      "\n"
     ]
    },
    {
     "name": "stdout",
     "output_type": "stream",
     "text": [
      "                               PanelOLS Estimation Summary                               \n",
      "=========================================================================================\n",
      "Dep. Variable:     postive_excess_change_dummy   R-squared:                        0.0020\n",
      "Estimator:                            PanelOLS   R-squared (Between):              0.0006\n",
      "No. Observations:                         7740   R-squared (Within):              -0.0030\n",
      "Date:                         Thu, Nov 08 2018   R-squared (Overall):             -0.0030\n",
      "Time:                                 10:57:23   Log-likelihood                   -4797.4\n",
      "Cov. Estimator:                      Clustered                                           \n",
      "                                                 F-statistic:                      3.6988\n",
      "Entities:                                   30   P-value                           0.0052\n",
      "Avg Obs:                                258.00   Distribution:                  F(4,7449)\n",
      "Min Obs:                                258.00                                           \n",
      "Max Obs:                                258.00   F-statistic (robust):             4.2227\n",
      "                                                 P-value                           0.0020\n",
      "Time periods:                              258   Distribution:                  F(4,7449)\n",
      "Avg Obs:                                30.000                                           \n",
      "Min Obs:                                30.000                                           \n",
      "Max Obs:                                30.000                                           \n",
      "                                                                                         \n",
      "                                   Parameter Estimates                                    \n",
      "==========================================================================================\n",
      "                        Parameter  Std. Err.     T-stat    P-value    Lower CI    Upper CI\n",
      "------------------------------------------------------------------------------------------\n",
      "const                      0.4362     0.0001     3078.7     0.0000      0.4359      0.4365\n",
      "adjusted_gt_index         -0.0436     0.0107    -4.0838     0.0000     -0.0645     -0.0227\n",
      "adjusted_gt_index_lag1     0.0265     0.0141     1.8822     0.0598     -0.0011      0.0540\n",
      "adjusted_gt_index_lag2     0.0051     0.0112     0.4493     0.6533     -0.0170      0.0271\n",
      "adjusted_gt_index_lag3     0.0099     0.0112     0.8791     0.3794     -0.0122      0.0319\n",
      "==========================================================================================\n",
      "\n",
      "F-test for Poolability: 5.6020\n",
      "P-value: 0.0000\n",
      "Distribution: F(286,7449)\n",
      "\n",
      "Included effects: Entity, Time\n"
     ]
    }
   ],
   "source": [
    "mod = PanelOLS(df_final.postive_excess_change_dummy, exog_mean, entity_effects=True, time_effects=True)\n",
    "res = mod.fit(cov_type='clustered', cluster_entity=True)\n",
    "print(res.summary)\n"
   ]
  },
  {
   "cell_type": "code",
   "execution_count": 37,
   "metadata": {},
   "outputs": [
    {
     "name": "stdout",
     "output_type": "stream",
     "text": [
      "                            PanelOLS Estimation Summary                            \n",
      "===================================================================================\n",
      "Dep. Variable:     excess_percent_change   R-squared:                        0.0049\n",
      "Estimator:                      PanelOLS   R-squared (Between):             -0.1903\n",
      "No. Observations:                   6690   R-squared (Within):               0.0055\n",
      "Date:                   Thu, Nov 08 2018   R-squared (Overall):              0.0047\n",
      "Time:                           10:57:23   Log-likelihood                -1.449e+04\n",
      "Cov. Estimator:                Clustered                                           \n",
      "                                           F-statistic:                      7.8522\n",
      "Entities:                             30   P-value                           0.0000\n",
      "Avg Obs:                          223.00   Distribution:                  F(4,6434)\n",
      "Min Obs:                          223.00                                           \n",
      "Max Obs:                          223.00   F-statistic (robust):             2.2272\n",
      "                                           P-value                           0.0635\n",
      "Time periods:                        223   Distribution:                  F(4,6434)\n",
      "Avg Obs:                          30.000                                           \n",
      "Min Obs:                          30.000                                           \n",
      "Max Obs:                          30.000                                           \n",
      "                                                                                   \n",
      "                               Parameter Estimates                               \n",
      "=================================================================================\n",
      "               Parameter  Std. Err.     T-stat    P-value    Lower CI    Upper CI\n",
      "---------------------------------------------------------------------------------\n",
      "const             0.0339     0.1148     0.2956     0.7675     -0.1910      0.2589\n",
      "gt_index         -0.0179     0.0063    -2.8572     0.0043     -0.0302     -0.0056\n",
      "gt_index_lag1     0.0070     0.0041     1.6956     0.0900     -0.0011      0.0151\n",
      "gt_index_lag2     0.0041     0.0028     1.4817     0.1385     -0.0013      0.0096\n",
      "gt_index_lag3     0.0045     0.0030     1.4836     0.1380     -0.0014      0.0104\n",
      "=================================================================================\n",
      "\n",
      "F-test for Poolability: 1.9188\n",
      "P-value: 0.0000\n",
      "Distribution: F(251,6434)\n",
      "\n",
      "Included effects: Entity, Time\n"
     ]
    },
    {
     "name": "stderr",
     "output_type": "stream",
     "text": [
      "/anaconda3/lib/python3.6/site-packages/linearmodels/utility.py:496: MissingValueWarning:\n",
      "\n",
      "\n",
      "Inputs contain missing values. Dropping rows with missing observations.\n",
      "\n"
     ]
    }
   ],
   "source": [
    "exog_vars = ['gt_index', 'gt_index_lag1', 'gt_index_lag2', 'gt_index_lag3']\n",
    "exog_mean = sm.add_constant(df_final[exog_vars])\n",
    "\n",
    "mod = PanelOLS(df_final.excess_percent_change, exog_mean, entity_effects=True, time_effects=True)\n",
    "res = mod.fit(cov_type='clustered', cluster_entity=True)\n",
    "print(res.summary)"
   ]
  },
  {
   "cell_type": "code",
   "execution_count": 38,
   "metadata": {},
   "outputs": [
    {
     "name": "stderr",
     "output_type": "stream",
     "text": [
      "/anaconda3/lib/python3.6/site-packages/linearmodels/utility.py:496: MissingValueWarning:\n",
      "\n",
      "\n",
      "Inputs contain missing values. Dropping rows with missing observations.\n",
      "\n"
     ]
    },
    {
     "name": "stdout",
     "output_type": "stream",
     "text": [
      "                               PanelOLS Estimation Summary                               \n",
      "=========================================================================================\n",
      "Dep. Variable:     postive_excess_change_dummy   R-squared:                        0.0020\n",
      "Estimator:                            PanelOLS   R-squared (Between):             -0.0172\n",
      "No. Observations:                         7740   R-squared (Within):              -0.0030\n",
      "Date:                         Thu, Nov 08 2018   R-squared (Overall):             -0.0031\n",
      "Time:                                 10:57:23   Log-likelihood                   -4797.4\n",
      "Cov. Estimator:                      Clustered                                           \n",
      "                                                 F-statistic:                      3.6988\n",
      "Entities:                                   30   P-value                           0.0052\n",
      "Avg Obs:                                258.00   Distribution:                  F(4,7449)\n",
      "Min Obs:                                258.00                                           \n",
      "Max Obs:                                258.00   F-statistic (robust):             4.2227\n",
      "                                                 P-value                           0.0020\n",
      "Time periods:                              258   Distribution:                  F(4,7449)\n",
      "Avg Obs:                                30.000                                           \n",
      "Min Obs:                                30.000                                           \n",
      "Max Obs:                                30.000                                           \n",
      "                                                                                         \n",
      "                               Parameter Estimates                               \n",
      "=================================================================================\n",
      "               Parameter  Std. Err.     T-stat    P-value    Lower CI    Upper CI\n",
      "---------------------------------------------------------------------------------\n",
      "const             0.4396     0.0188     23.333     0.0000      0.4027      0.4765\n",
      "gt_index         -0.0023     0.0006    -4.0838     0.0000     -0.0035     -0.0012\n",
      "gt_index_lag1     0.0014     0.0008     1.8822     0.0598  -5.909e-05      0.0029\n",
      "gt_index_lag2     0.0003     0.0006     0.4493     0.6533     -0.0009      0.0015\n",
      "gt_index_lag3     0.0005     0.0006     0.8791     0.3794     -0.0007      0.0017\n",
      "=================================================================================\n",
      "\n",
      "F-test for Poolability: 5.5938\n",
      "P-value: 0.0000\n",
      "Distribution: F(286,7449)\n",
      "\n",
      "Included effects: Entity, Time\n"
     ]
    }
   ],
   "source": [
    "mod = PanelOLS(df_final.postive_excess_change_dummy, exog_mean, entity_effects=True, time_effects=True)\n",
    "res = mod.fit(cov_type='clustered', cluster_entity=True)\n",
    "print(res.summary)"
   ]
  },
  {
   "cell_type": "code",
   "execution_count": 39,
   "metadata": {},
   "outputs": [
    {
     "data": {
      "text/html": [
       "<iframe id=\"igraph\" scrolling=\"no\" style=\"border:none;\" seamless=\"seamless\" src=\"https://plot.ly/~jmarfati/102.embed\" height=\"525px\" width=\"100%\"></iframe>"
      ],
      "text/plain": [
       "<plotly.tools.PlotlyDisplay object>"
      ]
     },
     "execution_count": 39,
     "metadata": {},
     "output_type": "execute_result"
    }
   ],
   "source": [
    "figure = dji_index[['open_monday',]].iplot(kind='scatter', asFigure=True)\n",
    "figure['layout']['yaxis1'].update({'title': 'DJI Index'})\n",
    "figure['layout'].update(title='Index Price')\n",
    "\n",
    "py.iplot(figure, filename='figure4')"
   ]
  },
  {
   "cell_type": "code",
   "execution_count": null,
   "metadata": {},
   "outputs": [],
   "source": []
  }
 ],
 "metadata": {
  "kernelspec": {
   "display_name": "Python 3",
   "language": "python",
   "name": "python3"
  },
  "language_info": {
   "codemirror_mode": {
    "name": "ipython",
    "version": 3
   },
   "file_extension": ".py",
   "mimetype": "text/x-python",
   "name": "python",
   "nbconvert_exporter": "python",
   "pygments_lexer": "ipython3",
   "version": "3.6.5"
  }
 },
 "nbformat": 4,
 "nbformat_minor": 2
}
