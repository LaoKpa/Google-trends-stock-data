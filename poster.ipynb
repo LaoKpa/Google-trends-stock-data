{
 "cells": [
  {
   "cell_type": "code",
   "execution_count": 1,
   "metadata": {},
   "outputs": [],
   "source": [
    "import pandas as pd\n",
    "from sklearn.model_selection import train_test_split\n",
    "from sklearn import svm\n",
    "from sklearn.metrics import classification_report\n",
    "from sklearn.neural_network import MLPClassifier\n",
    "from sklearn.metrics import confusion_matrix\n",
    "from sklearn.ensemble import RandomForestClassifier\n",
    "import seaborn as sns\n",
    "import matplotlib.pyplot as plt\n",
    "import numpy as np\n",
    "import warnings\n",
    "warnings.filterwarnings('ignore')\n",
    "from sklearn.naive_bayes import GaussianNB\n",
    "from sklearn.metrics import roc_auc_score\n",
    "import statsmodels.api as sm\n",
    "from linearmodels import PanelOLS\n",
    "from datetime import datetime\n",
    "from datetime import timedelta  \n",
    "\n",
    "\n",
    "sns.set_style(\"darkgrid\")\n",
    "\n",
    "df = pd.read_csv('https://raw.githubusercontent.com/jugalm/News_Stocks/master/data/weekly_gti_stock_price.csv')\n",
    "\n",
    "df = df[df.adjusted_gt_index_lag4.notnull()]\n",
    "df = df[df.excess_percent_change.notnull()]\n",
    "#df.m_date = pd.to_datetime(df.m_date).dt.date\n",
    "X_list1 = ['adjusted_gt_index_lag1',  'adjusted_gt_index_lag2', \n",
    "                      'adjusted_gt_index_lag3', 'adjusted_gt_index_lag4',\n",
    "                      'standarized_weekly_volume_lag1', 'standarized_weekly_volume_lag2',\n",
    "                      'standarized_weekly_volume_lag3', 'standarized_weekly_volume_lag4',\n",
    "                      'excess_percent_change_lag1', 'excess_percent_change_lag2', \n",
    "                      'excess_percent_change_lag3']\n",
    "del df['Unnamed: 0']"
   ]
  },
  {
   "cell_type": "code",
   "execution_count": 2,
   "metadata": {},
   "outputs": [
    {
     "name": "stdout",
     "output_type": "stream",
     "text": [
      "Optimization terminated successfully.\n",
      "         Current function value: 0.691972\n",
      "         Iterations 4\n",
      "                                Results: Logit\n",
      "==============================================================================\n",
      "Model:                Logit                       Pseudo R-squared: 0.002     \n",
      "Dependent Variable:   postive_excess_change_dummy AIC:              10694.2051\n",
      "Date:                 2019-04-12 10:46            BIC:              10777.6084\n",
      "No. Observations:     7710                        Log-Likelihood:   -5335.1   \n",
      "Df Model:             11                          LL-Null:          -5343.9   \n",
      "Df Residuals:         7698                        LLR p-value:      0.089105  \n",
      "Converged:            1.0000                      Scale:            1.0000    \n",
      "No. Iterations:       4.0000                                                  \n",
      "------------------------------------------------------------------------------\n",
      "                                Coef.  Std.Err.    z    P>|z|   [0.025  0.975]\n",
      "------------------------------------------------------------------------------\n",
      "const                           0.0170   0.0230  0.7406 0.4589 -0.0280  0.0620\n",
      "adjusted_gt_index_lag1         -0.1329   0.0520 -2.5582 0.0105 -0.2348 -0.0311\n",
      "adjusted_gt_index_lag2          0.0394   0.0562  0.7005 0.4836 -0.0708  0.1496\n",
      "adjusted_gt_index_lag3          0.0658   0.0559  1.1774 0.2390 -0.0437  0.1753\n",
      "adjusted_gt_index_lag4          0.0532   0.0461  1.1535 0.2487 -0.0372  0.1435\n",
      "standarized_weekly_volume_lag1 -0.0123   0.0364 -0.3386 0.7349 -0.0836  0.0590\n",
      "standarized_weekly_volume_lag2  0.0234   0.0441  0.5312 0.5953 -0.0630  0.1098\n",
      "standarized_weekly_volume_lag3  0.0212   0.0444  0.4782 0.6325 -0.0658  0.1083\n",
      "standarized_weekly_volume_lag4 -0.0144   0.0412 -0.3485 0.7275 -0.0951  0.0664\n",
      "excess_percent_change_lag1     -0.0272   0.0107 -2.5445 0.0109 -0.0481 -0.0062\n",
      "excess_percent_change_lag2     -0.0072   0.0107 -0.6789 0.4972 -0.0281  0.0137\n",
      "excess_percent_change_lag3      0.0060   0.0106  0.5623 0.5739 -0.0149  0.0268\n",
      "==============================================================================\n",
      "\n"
     ]
    }
   ],
   "source": [
    "X=sm.add_constant(df[X_list1])\n",
    "#.join(pd.get_dummies(df.stock_symbol))\n",
    "\n",
    "y=df.postive_excess_change_dummy\n",
    "\n",
    "logit_model=sm.Logit(y,X)\n",
    "result=logit_model.fit(maxiter=100)\n",
    "print(result.summary2())\n"
   ]
  },
  {
   "cell_type": "code",
   "execution_count": 3,
   "metadata": {},
   "outputs": [
    {
     "name": "stdout",
     "output_type": "stream",
     "text": [
      "                                    2.5%     97.5%        OR\n",
      "const                           0.972380  1.063999  1.017158\n",
      "adjusted_gt_index_lag1          0.790744  0.969390  0.875522\n",
      "adjusted_gt_index_lag2          0.931608  1.161419  1.040186\n",
      "adjusted_gt_index_lag3          0.957230  1.191552  1.067983\n",
      "adjusted_gt_index_lag4          0.963498  1.154362  1.054621\n",
      "standarized_weekly_volume_lag1  0.919796  1.060743  0.987759\n",
      "standarized_weekly_volume_lag2  0.938987  1.116013  1.023680\n",
      "standarized_weekly_volume_lag3  0.936330  1.114328  1.021459\n",
      "standarized_weekly_volume_lag4  0.909304  1.068622  0.985750\n",
      "excess_percent_change_lag1      0.953048  0.993779  0.973200\n",
      "excess_percent_change_lag2      0.972260  1.013751  0.992789\n",
      "excess_percent_change_lag3      0.985244  1.027191  1.005999\n"
     ]
    }
   ],
   "source": [
    "params = result.params\n",
    "conf = result.conf_int()\n",
    "conf['OR'] = params\n",
    "conf.columns = ['2.5%', '97.5%', 'OR']\n",
    "print(np.exp(conf))"
   ]
  },
  {
   "cell_type": "code",
   "execution_count": 4,
   "metadata": {},
   "outputs": [
    {
     "data": {
      "image/png": "[encoded data removed]",
      "text/plain": [
       "<Figure size 432x288 with 1 Axes>"
      ]
     },
     "metadata": {},
     "output_type": "display_data"
    }
   ],
   "source": [
    "plt.errorbar(np.flip(np.exp(conf['OR'])[:5],0), np.flip(X.columns.tolist()[:5],0), xerr=np.flip(np.exp(conf['OR'])[:5] - np.exp(conf['2.5%'])[:5],0), \n",
    "             fmt='o', color='black', ecolor='darkgreen', elinewidth=5, capsize=4, ms=3, mew= 7);\n",
    "\n",
    "plt.axvline(1, color='k', linestyle='dashed', linewidth=2)\n",
    "sns.set_style(\"darkgrid\")\n",
    "\n",
    "plt.xlabel('Odds Ratio')\n",
    "plt.title('Odds Ratio and 95% Confidence Interval')\n",
    "plt.yticks(np.flip(X.columns.tolist()[:5],0), ('Lag GTI 4', 'Lag GTI 3', 'Lag GTI 2', 'Lag GTI 1', 'Constant'))\n",
    "\n",
    "plt.savefig('odds_ratio.pdf')\n"
   ]
  },
  {
   "cell_type": "code",
   "execution_count": 5,
   "metadata": {},
   "outputs": [
    {
     "name": "stdout",
     "output_type": "stream",
     "text": [
      "                              OLS Estimation Summary                             \n",
      "=================================================================================\n",
      "Dep. Variable:     excess_percent_change   R-squared:                      0.0052\n",
      "Estimator:                           OLS   Adj. R-squared:                 0.0038\n",
      "No. Observations:                   7710   F-statistic:                    25.053\n",
      "Date:                   Fri, Apr 12 2019   P-value (F-stat)                0.0090\n",
      "Time:                           10:46:55   Distribution:                 chi2(11)\n",
      "Cov. Estimator:                   robust                                         \n",
      "                                                                                 \n",
      "                                       Parameter Estimates                                        \n",
      "==================================================================================================\n",
      "                                Parameter  Std. Err.     T-stat    P-value    Lower CI    Upper CI\n",
      "--------------------------------------------------------------------------------------------------\n",
      "const                             -0.0265     0.0257    -1.0318     0.3021     -0.0769      0.0239\n",
      "adjusted_gt_index_lag1            -0.2445     0.0904    -2.7033     0.0069     -0.4218     -0.0672\n",
      "adjusted_gt_index_lag2             0.0722     0.0662     1.0908     0.2754     -0.0575      0.2019\n",
      "adjusted_gt_index_lag3             0.1460     0.0569     2.5662     0.0103      0.0345      0.2575\n",
      "adjusted_gt_index_lag4             0.0439     0.0487     0.9021     0.3670     -0.0515      0.1394\n",
      "standarized_weekly_volume_lag1     0.0558     0.0431     1.2965     0.1948     -0.0286      0.1402\n",
      "standarized_weekly_volume_lag2     0.0032     0.0948     0.0338     0.9730     -0.1826      0.1891\n",
      "standarized_weekly_volume_lag3     0.0009     0.0542     0.0174     0.9861     -0.1053      0.1072\n",
      "standarized_weekly_volume_lag4    -0.0515     0.0457    -1.1249     0.2606     -0.1411      0.0382\n",
      "excess_percent_change_lag1        -0.0376     0.0125    -3.0127     0.0026     -0.0621     -0.0131\n",
      "excess_percent_change_lag2        -0.0132     0.0122    -1.0846     0.2781     -0.0370      0.0106\n",
      "excess_percent_change_lag3         0.0086     0.0121     0.7114     0.4769     -0.0151      0.0322\n",
      "==================================================================================================\n"
     ]
    }
   ],
   "source": [
    "import linearmodels as lm \n",
    "mod = lm.OLS(df.excess_percent_change, X)\n",
    "res = mod.fit()\n",
    "print(res.summary)"
   ]
  },
  {
   "cell_type": "code",
   "execution_count": 6,
   "metadata": {},
   "outputs": [],
   "source": [
    "#X_train, X_test, y_train, y_test = train_test_split(X, y, test_size=0.20)\n",
    "X_train, y_train = df[df.m_date < '2017/1/1'][X_list1], df[df.m_date < '2017/1/1'].postive_excess_change_dummy\n",
    "\n",
    "X_test, y_test = df[df.m_date > '2017/1/1'][X_list1], df[df.m_date > '2017/1/1'].postive_excess_change_dummy"
   ]
  },
  {
   "cell_type": "code",
   "execution_count": 7,
   "metadata": {},
   "outputs": [
    {
     "name": "stdout",
     "output_type": "stream",
     "text": [
      "             precision    recall  f1-score   support\n",
      "\n",
      "        0.0       0.51      0.37      0.43       561\n",
      "        1.0       0.52      0.66      0.58       579\n",
      "\n",
      "avg / total       0.52      0.52      0.51      1140\n",
      "\n",
      "[[206 355]\n",
      " [196 383]]\n"
     ]
    }
   ],
   "source": [
    "clf = svm.SVC(probability=True)\n",
    "clf.fit(X_train, y_train)\n",
    "\n",
    "y_fit = clf.predict(X_test)\n",
    "print(classification_report(y_test, y_fit))\n",
    "print(confusion_matrix(y_test, y_fit))"
   ]
  },
  {
   "cell_type": "code",
   "execution_count": 8,
   "metadata": {},
   "outputs": [
    {
     "name": "stdout",
     "output_type": "stream",
     "text": [
      "             precision    recall  f1-score   support\n",
      "\n",
      "        0.0       0.50      0.46      0.48       561\n",
      "        1.0       0.52      0.56      0.54       579\n",
      "\n",
      "avg / total       0.51      0.51      0.51      1140\n",
      "\n",
      "[[257 304]\n",
      " [255 324]]\n"
     ]
    }
   ],
   "source": [
    "clf = MLPClassifier(solver='lbfgs', alpha=1e-5, hidden_layer_sizes=(15, 10))\n",
    "clf.fit(X_train, y_train) \n",
    "\n",
    "y_fit = clf.predict(X_test)\n",
    "print(classification_report(y_test, y_fit))\n",
    "print(confusion_matrix(y_test, y_fit))"
   ]
  },
  {
   "cell_type": "code",
   "execution_count": 9,
   "metadata": {},
   "outputs": [
    {
     "name": "stdout",
     "output_type": "stream",
     "text": [
      "             precision    recall  f1-score   support\n",
      "\n",
      "        0.0       0.33      0.02      0.03       561\n",
      "        1.0       0.50      0.97      0.66       579\n",
      "\n",
      "avg / total       0.42      0.50      0.35      1140\n",
      "\n",
      "[[  9 552]\n",
      " [ 18 561]]\n"
     ]
    }
   ],
   "source": [
    "clf = RandomForestClassifier(n_estimators=100, max_depth=2)\n",
    "clf.fit(X_train, y_train) \n",
    "\n",
    "y_fit = clf.predict(X_test)\n",
    "print(classification_report(y_test, y_fit))\n",
    "print(confusion_matrix(y_test, y_fit))"
   ]
  },
  {
   "cell_type": "code",
   "execution_count": 10,
   "metadata": {},
   "outputs": [],
   "source": [
    "from collections import defaultdict\n",
    "\n",
    "def report2dict(cr):\n",
    "    # Parse rows\n",
    "    tmp = list()\n",
    "    for row in cr.split(\"\\n\"):\n",
    "        parsed_row = [x for x in row.split(\"  \") if len(x) > 0]\n",
    "        if len(parsed_row) > 0:\n",
    "            tmp.append(parsed_row)\n",
    "    \n",
    "    # Store in dictionary\n",
    "    measures = tmp[0]\n",
    "\n",
    "    D_class_data = defaultdict(dict)\n",
    "    for row in tmp[1:]:\n",
    "        class_label = row[0]\n",
    "        for j, m in enumerate(measures):\n",
    "            D_class_data[class_label][m.strip()] = float(row[j + 1].strip())\n",
    "    return D_class_data"
   ]
  },
  {
   "cell_type": "code",
   "execution_count": 11,
   "metadata": {},
   "outputs": [],
   "source": [
    "def add_days(date_string, num_days):\n",
    "    date_temp = (datetime.strptime(date_string, '%Y/%m/%d') + timedelta(days=num_days))\n",
    "    return date_temp.strftime(\"%Y/%m/%d\")"
   ]
  },
  {
   "cell_type": "code",
   "execution_count": 19,
   "metadata": {},
   "outputs": [],
   "source": [
    "def run_simulation(data, x_list, y_var, start_week, method):\n",
    "    result = []\n",
    "    date_list = data.m_date.unique()\n",
    "    n = len(date_list)\n",
    "    for i in range(start_week, n-1):\n",
    "        \n",
    "        X_train = data[(data.m_date < date_list[i]) & (data.m_date >= date_list[i-52]) ][x_list]\n",
    "        y_train = data[(data.m_date < date_list[i]) & (data.m_date >= date_list[i-52]) ][y_var]\n",
    "        \n",
    "        X_test = data[(data.m_date >= date_list[i]) & (data.m_date < date_list[i+1])][x_list]\n",
    "        y_test = data[(data.m_date >= date_list[i]) & (data.m_date < date_list[i+1])][y_var]\n",
    "        \n",
    "        if method == 'SVM':\n",
    "            clf = svm.SVC()\n",
    "        elif method == 'Neural Network':\n",
    "            clf = MLPClassifier(solver='lbfgs', alpha=1e-5, hidden_layer_sizes=(15, 2)) \n",
    "        elif method == 'Random Forest':\n",
    "            clf = RandomForestClassifier(n_estimators=100, max_depth=2)\n",
    "        elif method == 'NB':   \n",
    "            clf = GaussianNB()\n",
    "        \n",
    "        clf.fit(X_train, y_train)\n",
    "        \n",
    "        y_fit = clf.predict(X_test)\n",
    "        res = pd.DataFrame(report2dict(classification_report(y_test, y_fit)))\n",
    "        result.append(res.loc['precision', 'avg / total'])\n",
    "    return result"
   ]
  },
  {
   "cell_type": "markdown",
   "metadata": {},
   "source": [
    "# SVM"
   ]
  },
  {
   "cell_type": "code",
   "execution_count": 20,
   "metadata": {},
   "outputs": [
    {
     "name": "stdout",
     "output_type": "stream",
     "text": [
      "Average accuracy of prediction: 0.5437745098039216\n"
     ]
    }
   ],
   "source": [
    "res = run_simulation(df, X_list1, 'postive_excess_change_dummy', 52,'SVM')\n",
    "\n",
    "print(\"Average accuracy of prediction: \" + str(np.array(res).mean()))\n"
   ]
  },
  {
   "cell_type": "code",
   "execution_count": 21,
   "metadata": {},
   "outputs": [
    {
     "data": {
      "image/png": "[encoded data removed]",
      "text/plain": [
       "<Figure size 432x288 with 1 Axes>"
      ]
     },
     "metadata": {},
     "output_type": "display_data"
    }
   ],
   "source": [
    "sns.distplot(res, hist=True, kde=True, \n",
    "             bins=int(100/5), color = 'darkgreen', \n",
    "             hist_kws={'edgecolor':'black'},\n",
    "             kde_kws={'linewidth': 4})\n",
    "plt.xlabel('Prediction Accuracy'\n",
    "plt.title('Density plot and histogram of accuracy level')\n",
    "plt.savefig('svm.pdf')\n"
   ]
  },
  {
   "cell_type": "code",
   "execution_count": 22,
   "metadata": {},
   "outputs": [
    {
     "name": "stdout",
     "output_type": "stream",
     "text": [
      "Average accuracy of prediction: 0.5318627450980392\n"
     ]
    },
    {
     "data": {
      "text/plain": [
       "<matplotlib.axes._subplots.AxesSubplot at 0x1c1e678cc0>"
      ]
     },
     "execution_count": 22,
     "metadata": {},
     "output_type": "execute_result"
    },
    {
     "data": {
      "image/png": "[encoded data removed]",
      "text/plain": [
       "<Figure size 432x288 with 1 Axes>"
      ]
     },
     "metadata": {},
     "output_type": "display_data"
    }
   ],
   "source": [
    "res = run_simulation(df, X_list1, 'postive_excess_change_dummy', 52,'Neural Network')\n",
    "\n",
    "print(\"Average accuracy of prediction: \" + str(np.array(res).mean()))\n",
    "\n",
    "sns.distplot(res)"
   ]
  },
  {
   "cell_type": "code",
   "execution_count": 23,
   "metadata": {},
   "outputs": [
    {
     "name": "stdout",
     "output_type": "stream",
     "text": [
      "Average accuracy of prediction: 0.524656862745098\n"
     ]
    },
    {
     "data": {
      "text/plain": [
       "<matplotlib.axes._subplots.AxesSubplot at 0x1c116d1390>"
      ]
     },
     "execution_count": 23,
     "metadata": {},
     "output_type": "execute_result"
    },
    {
     "data": {
      "image/png": "[encoded data removed]",
      "text/plain": [
       "<Figure size 432x288 with 1 Axes>"
      ]
     },
     "metadata": {},
     "output_type": "display_data"
    }
   ],
   "source": [
    "res = run_simulation(df, X_list1, 'postive_excess_change_dummy', 52,'Neural Network')\n",
    "\n",
    "print(\"Average accuracy of prediction: \" + str(np.array(res).mean()))\n",
    "\n",
    "sns.distplot(res)"
   ]
  }
 ],
 "metadata": {
  "kernelspec": {
   "display_name": "Python 3",
   "language": "python",
   "name": "python3"
  },
  "language_info": {
   "codemirror_mode": {
    "name": "ipython",
    "version": 3
   },
   "file_extension": ".py",
   "mimetype": "text/x-python",
   "name": "python",
   "nbconvert_exporter": "python",
   "pygments_lexer": "ipython3",
   "version": "3.7.1"
  }
 },
 "nbformat": 4,
 "nbformat_minor": 2
}
