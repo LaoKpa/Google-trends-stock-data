{
 "cells": [
  {
   "cell_type": "markdown",
   "metadata": {},
   "source": [
    "# Research Question"
   ]
  },
  {
   "cell_type": "markdown",
   "metadata": {},
   "source": [
    "Can Google trends search data be used to predict stock price movements and volume using machine learning techniques? The Google trends data tracks the relative search volume of a particular term on a given day. i.e. it is a number between 1 and 100 where a number close to 100 indicates the search volume was relatively high on the day and a number close to 1 means the volume was relatively low on that day. Using this information, one of the possible hypothesis is that if there is a high search volume for a particular stock/ stock price on particular day a large number of people are looking to buy or sell that stock in the near future. This story is arguably true because Google has increasingly become the search engine of choice to easily obtain information on just about any topic. \n",
    "\n",
    "In the finance industry managing risk has been a major concern especially since the recession of 2008. Therefore if there is a way to predict the volatility of a stock using Google trends data firms that manage mutual funds and other financial products that are primarily designed to minimize risk can use this information to minimize risk for their customers and increase the overall welfare of the society. "
   ]
  },
  {
   "cell_type": "markdown",
   "metadata": {},
   "source": [
    "# Objectives"
   ]
  },
  {
   "cell_type": "markdown",
   "metadata": {},
   "source": [
    "The first step will be to develop a model that defines the interaction betweem price and volume with google search trend data as the exogenous variable. The structural model will be used to derive the reduced form model and to perform simulations based on empirical relations. In order to test the hypothesis I intend to use Google search data for the top 20 stocks (and possibly more) in the Standard and Poor's (S&P) 500 index as the independent variable of interest. For the dependent variable I intend to use the price, trading volume and volatility for the stock on the given day. In order to test the relation I will implement the fixed effect technique by controlling for overall market movement and/ or sector fixed effects for the stock. I also intend to use OLS and Lasso regression techniques in order to estimate and forecast future outcomes. "
   ]
  },
  {
   "cell_type": "markdown",
   "metadata": {},
   "source": [
    "# Testable hypotheses"
   ]
  },
  {
   "cell_type": "markdown",
   "metadata": {},
   "source": [
    "1. Is the a correlation between the Google search trends and the  price/ volume of stock? \n",
    "2. Is there a lag effect? If so how many periods?\n",
    "3. Does the Google trends data only help explain technology stock price movement/ volume?"
   ]
  },
  {
   "cell_type": "markdown",
   "metadata": {},
   "source": [
    "# Data \n",
    "Below is sample code to get the data"
   ]
  },
  {
   "cell_type": "markdown",
   "metadata": {},
   "source": [
    "# Stock Price/ Volume Data"
   ]
  },
  {
   "cell_type": "code",
   "execution_count": 1,
   "metadata": {
    "collapsed": false
   },
   "outputs": [
    {
     "data": {
      "text/html": [
       "<div>\n",
       "<style scoped>\n",
       "    .dataframe tbody tr th:only-of-type {\n",
       "        vertical-align: middle;\n",
       "    }\n",
       "\n",
       "    .dataframe tbody tr th {\n",
       "        vertical-align: top;\n",
       "    }\n",
       "\n",
       "    .dataframe thead th {\n",
       "        text-align: right;\n",
       "    }\n",
       "</style>\n",
       "<table border=\"1\" class=\"dataframe\">\n",
       "  <thead>\n",
       "    <tr style=\"text-align: right;\">\n",
       "      <th></th>\n",
       "      <th>Open</th>\n",
       "      <th>High</th>\n",
       "      <th>Low</th>\n",
       "      <th>Close</th>\n",
       "      <th>Volume</th>\n",
       "      <th>Ex-Dividend</th>\n",
       "      <th>Split Ratio</th>\n",
       "      <th>Adj. Open</th>\n",
       "      <th>Adj. High</th>\n",
       "      <th>Adj. Low</th>\n",
       "      <th>Adj. Close</th>\n",
       "      <th>Adj. Volume</th>\n",
       "    </tr>\n",
       "    <tr>\n",
       "      <th>Date</th>\n",
       "      <th></th>\n",
       "      <th></th>\n",
       "      <th></th>\n",
       "      <th></th>\n",
       "      <th></th>\n",
       "      <th></th>\n",
       "      <th></th>\n",
       "      <th></th>\n",
       "      <th></th>\n",
       "      <th></th>\n",
       "      <th></th>\n",
       "      <th></th>\n",
       "    </tr>\n",
       "  </thead>\n",
       "  <tbody>\n",
       "    <tr>\n",
       "      <th>2017-10-31</th>\n",
       "      <td>1033.00</td>\n",
       "      <td>1041.00</td>\n",
       "      <td>1026.30</td>\n",
       "      <td>1033.04</td>\n",
       "      <td>1490660.0</td>\n",
       "      <td>0.0</td>\n",
       "      <td>1.0</td>\n",
       "      <td>1033.00</td>\n",
       "      <td>1041.00</td>\n",
       "      <td>1026.30</td>\n",
       "      <td>1033.04</td>\n",
       "      <td>1490660.0</td>\n",
       "    </tr>\n",
       "    <tr>\n",
       "      <th>2017-11-01</th>\n",
       "      <td>1036.32</td>\n",
       "      <td>1047.86</td>\n",
       "      <td>1034.00</td>\n",
       "      <td>1042.60</td>\n",
       "      <td>2105729.0</td>\n",
       "      <td>0.0</td>\n",
       "      <td>1.0</td>\n",
       "      <td>1036.32</td>\n",
       "      <td>1047.86</td>\n",
       "      <td>1034.00</td>\n",
       "      <td>1042.60</td>\n",
       "      <td>2105729.0</td>\n",
       "    </tr>\n",
       "    <tr>\n",
       "      <th>2017-11-02</th>\n",
       "      <td>1039.99</td>\n",
       "      <td>1045.52</td>\n",
       "      <td>1028.66</td>\n",
       "      <td>1042.97</td>\n",
       "      <td>1233333.0</td>\n",
       "      <td>0.0</td>\n",
       "      <td>1.0</td>\n",
       "      <td>1039.99</td>\n",
       "      <td>1045.52</td>\n",
       "      <td>1028.66</td>\n",
       "      <td>1042.97</td>\n",
       "      <td>1233333.0</td>\n",
       "    </tr>\n",
       "    <tr>\n",
       "      <th>2017-11-03</th>\n",
       "      <td>1042.75</td>\n",
       "      <td>1050.66</td>\n",
       "      <td>1037.65</td>\n",
       "      <td>1049.99</td>\n",
       "      <td>1370874.0</td>\n",
       "      <td>0.0</td>\n",
       "      <td>1.0</td>\n",
       "      <td>1042.75</td>\n",
       "      <td>1050.66</td>\n",
       "      <td>1037.65</td>\n",
       "      <td>1049.99</td>\n",
       "      <td>1370874.0</td>\n",
       "    </tr>\n",
       "    <tr>\n",
       "      <th>2017-11-06</th>\n",
       "      <td>1049.10</td>\n",
       "      <td>1052.59</td>\n",
       "      <td>1042.00</td>\n",
       "      <td>1042.68</td>\n",
       "      <td>897897.0</td>\n",
       "      <td>0.0</td>\n",
       "      <td>1.0</td>\n",
       "      <td>1049.10</td>\n",
       "      <td>1052.59</td>\n",
       "      <td>1042.00</td>\n",
       "      <td>1042.68</td>\n",
       "      <td>897897.0</td>\n",
       "    </tr>\n",
       "  </tbody>\n",
       "</table>\n",
       "</div>"
      ],
      "text/plain": [
       "               Open     High      Low    Close     Volume  Ex-Dividend  \\\n",
       "Date                                                                     \n",
       "2017-10-31  1033.00  1041.00  1026.30  1033.04  1490660.0          0.0   \n",
       "2017-11-01  1036.32  1047.86  1034.00  1042.60  2105729.0          0.0   \n",
       "2017-11-02  1039.99  1045.52  1028.66  1042.97  1233333.0          0.0   \n",
       "2017-11-03  1042.75  1050.66  1037.65  1049.99  1370874.0          0.0   \n",
       "2017-11-06  1049.10  1052.59  1042.00  1042.68   897897.0          0.0   \n",
       "\n",
       "            Split Ratio  Adj. Open  Adj. High  Adj. Low  Adj. Close  \\\n",
       "Date                                                                  \n",
       "2017-10-31          1.0    1033.00    1041.00   1026.30     1033.04   \n",
       "2017-11-01          1.0    1036.32    1047.86   1034.00     1042.60   \n",
       "2017-11-02          1.0    1039.99    1045.52   1028.66     1042.97   \n",
       "2017-11-03          1.0    1042.75    1050.66   1037.65     1049.99   \n",
       "2017-11-06          1.0    1049.10    1052.59   1042.00     1042.68   \n",
       "\n",
       "            Adj. Volume  \n",
       "Date                     \n",
       "2017-10-31    1490660.0  \n",
       "2017-11-01    2105729.0  \n",
       "2017-11-02    1233333.0  \n",
       "2017-11-03    1370874.0  \n",
       "2017-11-06     897897.0  "
      ]
     },
     "execution_count": 1,
     "metadata": {},
     "output_type": "execute_result"
    }
   ],
   "source": [
    "import pandas as pd\n",
    "import Quandl\n",
    " \n",
    "mydata = Quandl.get(\"WIKI/GOOGL\", rows=100)\n",
    "\n",
    "mydata.head()"
   ]
  },
  {
   "cell_type": "markdown",
   "metadata": {},
   "source": [
    "# Google Trends Data"
   ]
  },
  {
   "cell_type": "code",
   "execution_count": 2,
   "metadata": {
    "collapsed": false
   },
   "outputs": [
    {
     "name": "stdout",
     "output_type": "stream",
     "text": [
      "            Google Stock isPartial\n",
      "date                              \n",
      "2013-09-15            46     False\n",
      "2013-09-22            48     False\n",
      "2013-09-29            45     False\n",
      "2013-10-06            42     False\n",
      "2013-10-13            71     False\n"
     ]
    }
   ],
   "source": [
    "from pytrends.request import TrendReq\n",
    "\n",
    "pytrend = TrendReq()\n",
    "\n",
    "# Create payload and capture API tokens. Only needed for interest_over_time(), interest_by_region() & related_queries()\n",
    "pytrend.build_payload(kw_list=['Google Stock'])\n",
    "\n",
    "# Interest Over Time\n",
    "interest_over_time_df = pytrend.interest_over_time()\n",
    "print(interest_over_time_df.head())"
   ]
  },
  {
   "cell_type": "code",
   "execution_count": null,
   "metadata": {
    "collapsed": true
   },
   "outputs": [],
   "source": []
  }
 ],
 "metadata": {
  "kernelspec": {
   "display_name": "Python 2",
   "language": "python",
   "name": "python2"
  },
  "language_info": {
   "codemirror_mode": {
    "name": "ipython",
    "version": 2
   },
   "file_extension": ".py",
   "mimetype": "text/x-python",
   "name": "python",
   "nbconvert_exporter": "python",
   "pygments_lexer": "ipython2",
   "version": "2.7.13"
  }
 },
 "nbformat": 4,
 "nbformat_minor": 2
}
